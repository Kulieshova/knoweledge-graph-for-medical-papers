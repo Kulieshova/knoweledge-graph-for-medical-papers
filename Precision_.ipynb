{
 "cells": [
  {
   "cell_type": "markdown",
   "id": "fd4f32da-0be6-4691-94f4-1ec6dfdf75c9",
   "metadata": {},
   "source": [
    "Precision: Calculating how many of the extracted relationships are valid"
   ]
  },
  {
   "cell_type": "code",
   "execution_count": null,
   "id": "45b5ea6a-6ba9-436d-af14-a0344167b005",
   "metadata": {},
   "outputs": [],
   "source": [
    "!pip install deepeval"
   ]
  },
  {
   "cell_type": "code",
   "execution_count": null,
   "id": "0f8062da-d77a-4947-b40d-c052b4361ae2",
   "metadata": {},
   "outputs": [],
   "source": [
    "import nltk\n",
    "from nltk.stem import PorterStemmer\n",
    "nltk.download(\"punkt\")\n",
    "\n",
    "# Initialize Python porter stemmer\n",
    "ps = PorterStemmer()\n",
    "def lemmatize(sent):\n",
    "    return [ps.stem(word) for word in sent.split()]"
   ]
  },
  {
   "cell_type": "code",
   "execution_count": 57,
   "id": "df503792-98b1-4152-8e12-a4b4b73aae2e",
   "metadata": {},
   "outputs": [],
   "source": [
    "import fitz,os\n",
    "from sentence_transformers import SentenceTransformer, util\n",
    "\n",
    "# Load a pre-trained model\n",
    "model = SentenceTransformer('all-MiniLM-L6-v2')\n",
    "\n",
    "#reading the pdf and hand annotation files\n",
    "def read_pdf(pdf_file):\n",
    "    start=False\n",
    "    sentences=[]\n",
    "    start_idx=0\n",
    "    with fitz.open(pdf_file) as pdf_file:\n",
    "        for page_index, page in enumerate(pdf_file):\n",
    "            text = page.get_text(\"text\").lower()\n",
    "            text=text.split(\". \")\n",
    "            sentences.extend(text)\n",
    "                \n",
    "    return sentences\n",
    "def read_files(root_dir, hand):\n",
    "    \n",
    "    lines=[]\n",
    "    for files in os.listdir(root_dir):\n",
    "        if files[-4:] != '.pdf':\n",
    "            continue\n",
    "        sentences = read_pdf(f\"{root_dir}/{files}\")\n",
    "        lines.extend(sentences)\n",
    "\n",
    "    # read in hand annotations\n",
    "    for p in hand.iterrows():\n",
    "        rel = p[1]['rel']\n",
    "        subj = p[1]['subj']\n",
    "        obj = p[1]['obj']\n",
    "        out=f\"{subj} {rel} {obj}\" \n",
    "        lines.append(out)\n",
    "\n",
    "\n",
    "    return lines\n",
    "\n",
    "#computing cosine similarity\n",
    "def vec(sentences):\n",
    "    # Encode sentences\n",
    "    embeddings = model.encode([sentences[0], sentences[1]])\n",
    "    \n",
    "    # Compute cosine similarity\n",
    "    similarity = util.cos_sim(embeddings[0], embeddings[1])\n",
    "    return similarity.item() # Value close to 1 indicates high similarity\n",
    "    \n",
    "#finding if the target string (relation triplet) is in the src (pdf + hand annotation)\n",
    "def find(target, src):\n",
    "    found=False\n",
    "    matching_sentence=\"\"\n",
    " \n",
    "    for idx,sentence in enumerate(src):\n",
    "        pred=\" \".join(lemmatize(target))\n",
    "        test=\" \".join(lemmatize(sentence))\n",
    "        cos = vec([pred,test])\n",
    "        if pred in test or cos > 0.7:\n",
    "            if cos >0.65 and cos < 0.7:\n",
    "                print(f\"Got a match for {pred }: {sentence}\")\n",
    "            elif cos <=0.65:\n",
    "                print(f\"Closest match to {pred} was {test}\")\n",
    "            found=True\n",
    "            st_idx=idx\n",
    "            matching_sentence=sentence\n",
    "            return found, matching_sentence, \n",
    "            \n",
    "    return found, matching_sentence\n",
    "sentences = read_files(\"Docs\",hand)"
   ]
  },
  {
   "cell_type": "code",
   "execution_count": 62,
   "id": "380547bb-663f-461e-9a85-b81771cacbae",
   "metadata": {},
   "outputs": [
    {
     "name": "stdout",
     "output_type": "stream",
     "text": [
      "Example of a sentence from the pdf: pharmacotherapy, especially selective \n",
      "serotonin reuptake inhibitors antidepressants, remains the most frequent option \n",
      "for treating depression during the acute phase, while other promising pharmaco-\n",
      "logical options are still competing for the attention of practitioners\n",
      "\n",
      "\n",
      "Example from the hand annot. Duloxetine High efficiency for  Neuropathic pain, fibromyalgia, anxiety\n"
     ]
    }
   ],
   "source": [
    "print(f\"Example of a sentence from the pdf: {sentences[4]}\\n\\n\")\n",
    "print(f\"Example from the hand annot. {sentences[-1]}\")"
   ]
  },
  {
   "cell_type": "code",
   "execution_count": 55,
   "id": "a6ff708a-a300-4195-93e8-50f9819c81e2",
   "metadata": {},
   "outputs": [],
   "source": [
    "#find target in hand annotations\n",
    "def find_in_hand(hand,target):\n",
    "    max_=-1.0\n",
    "    for row in hand.iterrows():\n",
    "        hand_rel = f\" {row[1]['subj']} {row[1]['rel']} {row[1]['obj']}\"\n",
    "        sub_h = row[1]['subj']\n",
    "        cos=vec([hand_rel, target])\n",
    "        \n",
    "\n",
    "        if cos > max_:\n",
    "            max_ = cos\n",
    "            best=hand_rel\n",
    "        \n",
    "        cos=vec([best, hand_rel])\n",
    "        if sub_h.lower() not in best.lower() or cos < 0.7:\n",
    "            print(f\"Closest match for {hand_rel} is {best} with {cos}\")\n",
    "            continue\n",
    "        else:\n",
    "            return best\n",
    "            #print(f\"Closest match for {hand_rel} is {best} with {vec([best, hand_rel])}\")\n",
    "            #print(rouge_([hand_rel], [best]))\n",
    "            \n",
    "    \n",
    "            "
   ]
  },
  {
   "cell_type": "code",
   "execution_count": 58,
   "id": "666f4386-c9ef-4cc3-9bed-c991284eadef",
   "metadata": {},
   "outputs": [
    {
     "name": "stdout",
     "output_type": "stream",
     "text": [
      "Couldn't find a match for   selective serotonin reuptake inhibitors (ssris) side effects sexual and digestive issues, irritability, anxiety, insomnia, and headache\n",
      "Couldn't find a match for   all antidepressants side effects nausea, vomiting, sexual dysfunction, sedation, priapism, cardiotoxicity\n",
      "Couldn't find a match for   cognitive-behavioral therapy (cbt) first-line treatment mild to moderate major depressive disorder (mdd)\n",
      "Couldn't find a match for   monoamine oxidase inhibitors (maois) less commonly used major depressive disorder (mdd)\n",
      "Couldn't find a match for   interpersonal therapy (ipt) first-line treatment mild to moderate major depressive disorder (mdd)\n",
      "Couldn't find a match for   cognitive behavioral therapy (cbt) first-line treatment depression\n",
      "Couldn't find a match for   selective serotonin reuptake inhibitors (ssris) side effects sexual and digestive (nausea and loss of appetite), as well as irritability, anxiety, insomnia, and headache\n",
      "Couldn't find a match for   selective serotonin reuptake inhibitors (ssris) side effects sexual and digestive problems\n",
      "Couldn't find a match for   cognitive-behavioral therapy (cbt) overview involves modifying dysfunctional behavior and cognitions\n",
      "Couldn't find a match for   cognitive-behavioral therapy (cbt) first-line treatment mild to moderate major depressive disorder\n",
      "Couldn't find a match for   mirtazapine more effective duloxetine, fluoxetine, fluvoxamine, paroxetine, reboxetine\n",
      "Couldn't find a match for   major depressive disorder associated with high rate of suicidal behavior and mortality\n",
      "Couldn't find a match for   selective serotonin reuptake inhibitors (ssris) side effects sexual and digestive issues, irritability, anxiety, insomnia, headache\n",
      "Couldn't find a match for   cognitive-behavioral therapy (cbt) first-line treatment mild to moderate major depressive disorder\n",
      "100\n",
      "Couldn't find a match for   citalopram first-line treatment major depressive disorder in star*d level 1\n"
     ]
    }
   ],
   "source": [
    "from deepeval.metrics import ContextualRecallMetric\n",
    "from deepeval.test_case import LLMTestCase\n",
    "import pandas as pd\n",
    "hand = pd.read_csv(\"Annotations.csv\")\n",
    "pred_files = [\"NewRels_Skip3.csv\", \"NewRels_Skip2.csv\"]\n",
    "\n",
    "for pred_file in pred_files:\n",
    "    preds = pd.read_csv(pred_file) \n",
    "    \n",
    "    for p in preds.iterrows():\n",
    "        ref = p[1]['ref']\n",
    "        rel = p[1]['rel']\n",
    "        subj = p[1]['subj']\n",
    "        obj = p[1]['obj']\n",
    "        out=f\"{subj} {rel} {obj}\"\n",
    "        \n",
    "        found, match = find(out, sentences)\n",
    "        if found:\n",
    "            score +=1\n",
    "        else:\n",
    "            print(\"Couldn't find a match for  \", out)\n",
    "    print(\"Precisioin for {pred_file} is {score/"
   ]
  },
  {
   "cell_type": "code",
   "execution_count": 51,
   "id": "d4b601b4-e384-4895-abf6-56c7b3273ea7",
   "metadata": {},
   "outputs": [
    {
     "name": "stdout",
     "output_type": "stream",
     "text": [
      "Recall score: 85.84905660377359%\n"
     ]
    }
   ],
   "source": [
    "print(f\"Recall score: {100*score/len(preds)}%\")"
   ]
  },
  {
   "cell_type": "code",
   "execution_count": null,
   "id": "193f5b04-e33e-49ba-868f-6bc211825f06",
   "metadata": {},
   "outputs": [],
   "source": []
  }
 ],
 "metadata": {
  "kernelspec": {
   "display_name": "Python 3 (ipykernel)",
   "language": "python",
   "name": "python3"
  },
  "language_info": {
   "codemirror_mode": {
    "name": "ipython",
    "version": 3
   },
   "file_extension": ".py",
   "mimetype": "text/x-python",
   "name": "python",
   "nbconvert_exporter": "python",
   "pygments_lexer": "ipython3",
   "version": "3.12.2"
  }
 },
 "nbformat": 4,
 "nbformat_minor": 5
}

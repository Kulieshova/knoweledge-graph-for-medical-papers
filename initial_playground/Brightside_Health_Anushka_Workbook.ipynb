{
 "cells": [
  {
   "cell_type": "code",
<<<<<<< HEAD
   "execution_count": null,
=======
   "execution_count": 1,
>>>>>>> 7b612116e4c19dc897b64e541763862cf5c25cad
   "id": "baafa616",
   "metadata": {
    "colab": {
     "base_uri": "https://localhost:8080/"
    },
    "id": "baafa616",
    "outputId": "1f262148-76d5-43e7-c364-209b3a4e4f09"
   },
   "outputs": [
    {
     "name": "stdout",
     "output_type": "stream",
     "text": [
<<<<<<< HEAD
      "Collecting pdfplumber\n",
      "  Downloading pdfplumber-0.11.4-py3-none-any.whl.metadata (41 kB)\n",
      "\u001b[?25l     \u001b[90m━━━━━━━━━━━━━━━━━━━━━━━━━━━━━━━━━━━━━━━━\u001b[0m \u001b[32m0.0/42.0 kB\u001b[0m \u001b[31m?\u001b[0m eta \u001b[36m-:--:--\u001b[0m\r",
      "\u001b[2K     \u001b[90m━━━━━━━━━━━━━━━━━━━━━━━━━━━━━━━━━━━━━━━━\u001b[0m \u001b[32m42.0/42.0 kB\u001b[0m \u001b[31m1.6 MB/s\u001b[0m eta \u001b[36m0:00:00\u001b[0m\n",
      "\u001b[?25hCollecting pdfminer.six==20231228 (from pdfplumber)\n",
      "  Downloading pdfminer.six-20231228-py3-none-any.whl.metadata (4.2 kB)\n",
      "Requirement already satisfied: Pillow>=9.1 in /usr/local/lib/python3.10/dist-packages (from pdfplumber) (9.4.0)\n",
      "Collecting pypdfium2>=4.18.0 (from pdfplumber)\n",
      "  Downloading pypdfium2-4.30.0-py3-none-manylinux_2_17_x86_64.manylinux2014_x86_64.whl.metadata (48 kB)\n",
      "\u001b[2K     \u001b[90m━━━━━━━━━━━━━━━━━━━━━━━━━━━━━━━━━━━━━━━━\u001b[0m \u001b[32m48.5/48.5 kB\u001b[0m \u001b[31m1.6 MB/s\u001b[0m eta \u001b[36m0:00:00\u001b[0m\n",
      "\u001b[?25hRequirement already satisfied: charset-normalizer>=2.0.0 in /usr/local/lib/python3.10/dist-packages (from pdfminer.six==20231228->pdfplumber) (3.3.2)\n",
      "Requirement already satisfied: cryptography>=36.0.0 in /usr/local/lib/python3.10/dist-packages (from pdfminer.six==20231228->pdfplumber) (43.0.0)\n",
      "Requirement already satisfied: cffi>=1.12 in /usr/local/lib/python3.10/dist-packages (from cryptography>=36.0.0->pdfminer.six==20231228->pdfplumber) (1.17.0)\n",
      "Requirement already satisfied: pycparser in /usr/local/lib/python3.10/dist-packages (from cffi>=1.12->cryptography>=36.0.0->pdfminer.six==20231228->pdfplumber) (2.22)\n",
      "Downloading pdfplumber-0.11.4-py3-none-any.whl (59 kB)\n",
      "\u001b[2K   \u001b[90m━━━━━━━━━━━━━━━━━━━━━━━━━━━━━━━━━━━━━━━━\u001b[0m \u001b[32m59.2/59.2 kB\u001b[0m \u001b[31m3.4 MB/s\u001b[0m eta \u001b[36m0:00:00\u001b[0m\n",
      "\u001b[?25hDownloading pdfminer.six-20231228-py3-none-any.whl (5.6 MB)\n",
      "\u001b[2K   \u001b[90m━━━━━━━━━━━━━━━━━━━━━━━━━━━━━━━━━━━━━━━━\u001b[0m \u001b[32m5.6/5.6 MB\u001b[0m \u001b[31m44.7 MB/s\u001b[0m eta \u001b[36m0:00:00\u001b[0m\n",
      "\u001b[?25hDownloading pypdfium2-4.30.0-py3-none-manylinux_2_17_x86_64.manylinux2014_x86_64.whl (2.8 MB)\n",
      "\u001b[2K   \u001b[90m━━━━━━━━━━━━━━━━━━━━━━━━━━━━━━━━━━━━━━━━\u001b[0m \u001b[32m2.8/2.8 MB\u001b[0m \u001b[31m43.5 MB/s\u001b[0m eta \u001b[36m0:00:00\u001b[0m\n",
      "\u001b[?25hInstalling collected packages: pypdfium2, pdfminer.six, pdfplumber\n",
      "Successfully installed pdfminer.six-20231228 pdfplumber-0.11.4 pypdfium2-4.30.0\n"
=======
      "Requirement already satisfied: pdfplumber in c:\\users\\anush\\appdata\\local\\anaconda3\\lib\\site-packages (0.11.4)\n",
      "Requirement already satisfied: pdfminer.six==20231228 in c:\\users\\anush\\appdata\\local\\anaconda3\\lib\\site-packages (from pdfplumber) (20231228)\n",
      "Requirement already satisfied: Pillow>=9.1 in c:\\users\\anush\\appdata\\local\\anaconda3\\lib\\site-packages (from pdfplumber) (9.4.0)\n",
      "Requirement already satisfied: pypdfium2>=4.18.0 in c:\\users\\anush\\appdata\\local\\anaconda3\\lib\\site-packages (from pdfplumber) (4.30.0)\n",
      "Requirement already satisfied: charset-normalizer>=2.0.0 in c:\\users\\anush\\appdata\\local\\anaconda3\\lib\\site-packages (from pdfminer.six==20231228->pdfplumber) (2.0.4)\n",
      "Requirement already satisfied: cryptography>=36.0.0 in c:\\users\\anush\\appdata\\local\\anaconda3\\lib\\site-packages (from pdfminer.six==20231228->pdfplumber) (41.0.3)\n",
      "Requirement already satisfied: cffi>=1.12 in c:\\users\\anush\\appdata\\local\\anaconda3\\lib\\site-packages (from cryptography>=36.0.0->pdfminer.six==20231228->pdfplumber) (1.15.1)\n",
      "Requirement already satisfied: pycparser in c:\\users\\anush\\appdata\\local\\anaconda3\\lib\\site-packages (from cffi>=1.12->cryptography>=36.0.0->pdfminer.six==20231228->pdfplumber) (2.21)\n",
      "Requirement already satisfied: pyvis in c:\\users\\anush\\appdata\\local\\anaconda3\\lib\\site-packages (0.3.2)\n",
      "Requirement already satisfied: ipython>=5.3.0 in c:\\users\\anush\\appdata\\local\\anaconda3\\lib\\site-packages (from pyvis) (8.15.0)\n",
      "Requirement already satisfied: jinja2>=2.9.6 in c:\\users\\anush\\appdata\\local\\anaconda3\\lib\\site-packages (from pyvis) (3.1.2)\n",
      "Requirement already satisfied: jsonpickle>=1.4.1 in c:\\users\\anush\\appdata\\local\\anaconda3\\lib\\site-packages (from pyvis) (3.3.0)\n",
      "Requirement already satisfied: networkx>=1.11 in c:\\users\\anush\\appdata\\local\\anaconda3\\lib\\site-packages (from pyvis) (3.1)\n",
      "Requirement already satisfied: backcall in c:\\users\\anush\\appdata\\local\\anaconda3\\lib\\site-packages (from ipython>=5.3.0->pyvis) (0.2.0)\n",
      "Requirement already satisfied: decorator in c:\\users\\anush\\appdata\\local\\anaconda3\\lib\\site-packages (from ipython>=5.3.0->pyvis) (5.1.1)\n",
      "Requirement already satisfied: jedi>=0.16 in c:\\users\\anush\\appdata\\local\\anaconda3\\lib\\site-packages (from ipython>=5.3.0->pyvis) (0.18.1)\n",
      "Requirement already satisfied: matplotlib-inline in c:\\users\\anush\\appdata\\local\\anaconda3\\lib\\site-packages (from ipython>=5.3.0->pyvis) (0.1.6)\n",
      "Requirement already satisfied: pickleshare in c:\\users\\anush\\appdata\\local\\anaconda3\\lib\\site-packages (from ipython>=5.3.0->pyvis) (0.7.5)\n",
      "Requirement already satisfied: prompt-toolkit!=3.0.37,<3.1.0,>=3.0.30 in c:\\users\\anush\\appdata\\local\\anaconda3\\lib\\site-packages (from ipython>=5.3.0->pyvis) (3.0.36)\n",
      "Requirement already satisfied: pygments>=2.4.0 in c:\\users\\anush\\appdata\\local\\anaconda3\\lib\\site-packages (from ipython>=5.3.0->pyvis) (2.15.1)\n",
      "Requirement already satisfied: stack-data in c:\\users\\anush\\appdata\\local\\anaconda3\\lib\\site-packages (from ipython>=5.3.0->pyvis) (0.2.0)\n",
      "Requirement already satisfied: traitlets>=5 in c:\\users\\anush\\appdata\\local\\anaconda3\\lib\\site-packages (from ipython>=5.3.0->pyvis) (5.7.1)\n",
      "Requirement already satisfied: colorama in c:\\users\\anush\\appdata\\local\\anaconda3\\lib\\site-packages (from ipython>=5.3.0->pyvis) (0.4.6)\n",
      "Requirement already satisfied: MarkupSafe>=2.0 in c:\\users\\anush\\appdata\\local\\anaconda3\\lib\\site-packages (from jinja2>=2.9.6->pyvis) (2.1.1)\n",
      "Requirement already satisfied: parso<0.9.0,>=0.8.0 in c:\\users\\anush\\appdata\\local\\anaconda3\\lib\\site-packages (from jedi>=0.16->ipython>=5.3.0->pyvis) (0.8.3)\n",
      "Requirement already satisfied: wcwidth in c:\\users\\anush\\appdata\\local\\anaconda3\\lib\\site-packages (from prompt-toolkit!=3.0.37,<3.1.0,>=3.0.30->ipython>=5.3.0->pyvis) (0.2.5)\n",
      "Requirement already satisfied: executing in c:\\users\\anush\\appdata\\local\\anaconda3\\lib\\site-packages (from stack-data->ipython>=5.3.0->pyvis) (0.8.3)\n",
      "Requirement already satisfied: asttokens in c:\\users\\anush\\appdata\\local\\anaconda3\\lib\\site-packages (from stack-data->ipython>=5.3.0->pyvis) (2.0.5)\n",
      "Requirement already satisfied: pure-eval in c:\\users\\anush\\appdata\\local\\anaconda3\\lib\\site-packages (from stack-data->ipython>=5.3.0->pyvis) (0.2.2)\n",
      "Requirement already satisfied: six in c:\\users\\anush\\appdata\\local\\anaconda3\\lib\\site-packages (from asttokens->stack-data->ipython>=5.3.0->pyvis) (1.16.0)\n"
>>>>>>> 7b612116e4c19dc897b64e541763862cf5c25cad
     ]
    }
   ],
   "source": [
    "!pip install pdfplumber\n",
    "!pip install pyvis\n"
   ]
  },
  {
   "cell_type": "code",
<<<<<<< HEAD
   "execution_count": null,
=======
   "execution_count": 2,
>>>>>>> 7b612116e4c19dc897b64e541763862cf5c25cad
   "id": "8a896d12",
   "metadata": {
    "colab": {
     "base_uri": "https://localhost:8080/"
    },
    "id": "8a896d12",
    "outputId": "7b312d80-e5d5-4996-a440-1afd5f043388"
   },
   "outputs": [
    {
     "name": "stdout",
     "output_type": "stream",
     "text": [
<<<<<<< HEAD
      "Collecting openai\n",
      "  Downloading openai-1.44.0-py3-none-any.whl.metadata (22 kB)\n",
      "Requirement already satisfied: anyio<5,>=3.5.0 in /usr/local/lib/python3.10/dist-packages (from openai) (3.7.1)\n",
      "Requirement already satisfied: distro<2,>=1.7.0 in /usr/lib/python3/dist-packages (from openai) (1.7.0)\n",
      "Collecting httpx<1,>=0.23.0 (from openai)\n",
      "  Downloading httpx-0.27.2-py3-none-any.whl.metadata (7.1 kB)\n",
      "Collecting jiter<1,>=0.4.0 (from openai)\n",
      "  Downloading jiter-0.5.0-cp310-cp310-manylinux_2_17_x86_64.manylinux2014_x86_64.whl.metadata (3.6 kB)\n",
      "Requirement already satisfied: pydantic<3,>=1.9.0 in /usr/local/lib/python3.10/dist-packages (from openai) (2.8.2)\n",
      "Requirement already satisfied: sniffio in /usr/local/lib/python3.10/dist-packages (from openai) (1.3.1)\n",
      "Requirement already satisfied: tqdm>4 in /usr/local/lib/python3.10/dist-packages (from openai) (4.66.5)\n",
      "Requirement already satisfied: typing-extensions<5,>=4.11 in /usr/local/lib/python3.10/dist-packages (from openai) (4.12.2)\n",
      "Requirement already satisfied: idna>=2.8 in /usr/local/lib/python3.10/dist-packages (from anyio<5,>=3.5.0->openai) (3.8)\n",
      "Requirement already satisfied: exceptiongroup in /usr/local/lib/python3.10/dist-packages (from anyio<5,>=3.5.0->openai) (1.2.2)\n",
      "Requirement already satisfied: certifi in /usr/local/lib/python3.10/dist-packages (from httpx<1,>=0.23.0->openai) (2024.8.30)\n",
      "Collecting httpcore==1.* (from httpx<1,>=0.23.0->openai)\n",
      "  Downloading httpcore-1.0.5-py3-none-any.whl.metadata (20 kB)\n",
      "Collecting h11<0.15,>=0.13 (from httpcore==1.*->httpx<1,>=0.23.0->openai)\n",
      "  Downloading h11-0.14.0-py3-none-any.whl.metadata (8.2 kB)\n",
      "Requirement already satisfied: annotated-types>=0.4.0 in /usr/local/lib/python3.10/dist-packages (from pydantic<3,>=1.9.0->openai) (0.7.0)\n",
      "Requirement already satisfied: pydantic-core==2.20.1 in /usr/local/lib/python3.10/dist-packages (from pydantic<3,>=1.9.0->openai) (2.20.1)\n",
      "Downloading openai-1.44.0-py3-none-any.whl (367 kB)\n",
      "\u001b[2K   \u001b[90m━━━━━━━━━━━━━━━━━━━━━━━━━━━━━━━━━━━━━━━━\u001b[0m \u001b[32m367.8/367.8 kB\u001b[0m \u001b[31m11.6 MB/s\u001b[0m eta \u001b[36m0:00:00\u001b[0m\n",
      "\u001b[?25hDownloading httpx-0.27.2-py3-none-any.whl (76 kB)\n",
      "\u001b[2K   \u001b[90m━━━━━━━━━━━━━━━━━━━━━━━━━━━━━━━━━━━━━━━━\u001b[0m \u001b[32m76.4/76.4 kB\u001b[0m \u001b[31m1.6 MB/s\u001b[0m eta \u001b[36m0:00:00\u001b[0m\n",
      "\u001b[?25hDownloading httpcore-1.0.5-py3-none-any.whl (77 kB)\n",
      "\u001b[2K   \u001b[90m━━━━━━━━━━━━━━━━━━━━━━━━━━━━━━━━━━━━━━━━\u001b[0m \u001b[32m77.9/77.9 kB\u001b[0m \u001b[31m3.4 MB/s\u001b[0m eta \u001b[36m0:00:00\u001b[0m\n",
      "\u001b[?25hDownloading jiter-0.5.0-cp310-cp310-manylinux_2_17_x86_64.manylinux2014_x86_64.whl (318 kB)\n",
      "\u001b[2K   \u001b[90m━━━━━━━━━━━━━━━━━━━━━━━━━━━━━━━━━━━━━━━━\u001b[0m \u001b[32m318.9/318.9 kB\u001b[0m \u001b[31m7.1 MB/s\u001b[0m eta \u001b[36m0:00:00\u001b[0m\n",
      "\u001b[?25hDownloading h11-0.14.0-py3-none-any.whl (58 kB)\n",
      "\u001b[2K   \u001b[90m━━━━━━━━━━━━━━━━━━━━━━━━━━━━━━━━━━━━━━━━\u001b[0m \u001b[32m58.3/58.3 kB\u001b[0m \u001b[31m1.9 MB/s\u001b[0m eta \u001b[36m0:00:00\u001b[0m\n",
      "\u001b[?25hInstalling collected packages: jiter, h11, httpcore, httpx, openai\n",
      "Successfully installed h11-0.14.0 httpcore-1.0.5 httpx-0.27.2 jiter-0.5.0 openai-1.44.0\n"
=======
      "Requirement already satisfied: openai in c:\\users\\anush\\appdata\\local\\anaconda3\\lib\\site-packages (1.44.0)\n",
      "Requirement already satisfied: anyio<5,>=3.5.0 in c:\\users\\anush\\appdata\\local\\anaconda3\\lib\\site-packages (from openai) (3.5.0)\n",
      "Requirement already satisfied: distro<2,>=1.7.0 in c:\\users\\anush\\appdata\\local\\anaconda3\\lib\\site-packages (from openai) (1.9.0)\n",
      "Requirement already satisfied: httpx<1,>=0.23.0 in c:\\users\\anush\\appdata\\local\\anaconda3\\lib\\site-packages (from openai) (0.27.2)\n",
      "Requirement already satisfied: jiter<1,>=0.4.0 in c:\\users\\anush\\appdata\\local\\anaconda3\\lib\\site-packages (from openai) (0.5.0)\n",
      "Requirement already satisfied: pydantic<3,>=1.9.0 in c:\\users\\anush\\appdata\\local\\anaconda3\\lib\\site-packages (from openai) (1.10.8)\n",
      "Requirement already satisfied: sniffio in c:\\users\\anush\\appdata\\local\\anaconda3\\lib\\site-packages (from openai) (1.2.0)\n",
      "Requirement already satisfied: tqdm>4 in c:\\users\\anush\\appdata\\local\\anaconda3\\lib\\site-packages (from openai) (4.65.0)\n",
      "Requirement already satisfied: typing-extensions<5,>=4.11 in c:\\users\\anush\\appdata\\local\\anaconda3\\lib\\site-packages (from openai) (4.12.2)\n",
      "Requirement already satisfied: idna>=2.8 in c:\\users\\anush\\appdata\\local\\anaconda3\\lib\\site-packages (from anyio<5,>=3.5.0->openai) (3.4)\n",
      "Requirement already satisfied: certifi in c:\\users\\anush\\appdata\\local\\anaconda3\\lib\\site-packages (from httpx<1,>=0.23.0->openai) (2023.7.22)\n",
      "Requirement already satisfied: httpcore==1.* in c:\\users\\anush\\appdata\\local\\anaconda3\\lib\\site-packages (from httpx<1,>=0.23.0->openai) (1.0.5)\n",
      "Requirement already satisfied: h11<0.15,>=0.13 in c:\\users\\anush\\appdata\\local\\anaconda3\\lib\\site-packages (from httpcore==1.*->httpx<1,>=0.23.0->openai) (0.14.0)\n",
      "Requirement already satisfied: colorama in c:\\users\\anush\\appdata\\local\\anaconda3\\lib\\site-packages (from tqdm>4->openai) (0.4.6)\n"
>>>>>>> 7b612116e4c19dc897b64e541763862cf5c25cad
     ]
    }
   ],
   "source": [
    "!pip install openai"
   ]
  },
  {
   "cell_type": "code",
<<<<<<< HEAD
   "execution_count": null,
=======
   "execution_count": 1,
>>>>>>> 7b612116e4c19dc897b64e541763862cf5c25cad
   "id": "6771e04d",
   "metadata": {
    "id": "6771e04d"
   },
   "outputs": [],
   "source": [
    "from openai import OpenAI\n",
    "\n",
    "\n",
    "client= OpenAI( api_key= '',)\n",
    "\n",
    "\n",
    "\n",
    "modeltype= 'gpt-4-turbo-preview'\n",
    "\n",
<<<<<<< HEAD
    "filename= \"/content/100-Papers-in-Clinical-Psychiatry-Depressive-Disorders-Comparative-efficacy-and-acceptability-of-12-new-generation-antidepressants-a-multiple-treatments-meta-analysis.pdf\"\n",
=======
    "filename= \"./100-Papers-in-Clinical-Psychiatry-Depressive-Disorders-Comparative-efficacy-and-acceptability-of-12-new-generation-antidepressants-a-multiple-treatments-meta-analysis.pdf\"\n",
>>>>>>> 7b612116e4c19dc897b64e541763862cf5c25cad
    "assistant_name= 'Clinicial Assistant'\n",
    "\n",
    "instructions= \"\"\"\n",
    "You are a clinician who is reading through the given clinical paper related to depression, antidepressants, and treatments.\n",
    "Your goal is to help real-world clinicians search and find evidence-based treatments.\n",
    "\"\"\"\n",
    "\n",
    "content= \"\"\"\n",
<<<<<<< HEAD
    "You are to extract important entities and their relationships between one another from this paper. Return a pandas dataframe called \"paper1\".\n",
    "The dataframe should have headers \"entity1\", \"relationship\", \"entity 2\", where each row will describe the type of relationship between two entities.\n",
    "Also Include a visually friendly dataframe in your message result in table format\n",
    "\"\"\"\n",
=======
    "You are to extract important entities and their relationships between one another from this paper. Return a pandas dataframe \n",
    "called \"paper1\".The dataframe should have headers \"entity1\", \"relationship\", \"entity 2\", where each row will describe the type of\n",
    "relationship between the two entities. entities can be, but is not limited to, drugs, symptoms, conditions, and illnesses. \n",
    "examples of relationships can be, but is not limited to, \"is used to treat\" ,\"has side effect of\", \"experiences more\",\n",
    "\"improves\", \"is more effective than\", \"is used in combination with\", \"is augmented by\", \"has lower remission with\"\n",
    ", \"\"\"\n",
>>>>>>> 7b612116e4c19dc897b64e541763862cf5c25cad
    "\n",
    "assistant= client.beta.assistants.create(\n",
    "name= assistant_name,\n",
    "instructions= instructions,\n",
    "model= modeltype,\n",
    "tools= [{\"type\":\"file_search\"}])\n",
    "\n",
    "message_file= client.files.create(\n",
    "file=open(filename, \"rb\"),\n",
    "purpose=\"assistants\")"
   ]
  },
  {
   "cell_type": "code",
<<<<<<< HEAD
   "execution_count": null,
=======
   "execution_count": 2,
>>>>>>> 7b612116e4c19dc897b64e541763862cf5c25cad
   "id": "29d069e1",
   "metadata": {
    "id": "29d069e1"
   },
   "outputs": [],
   "source": [
    "thread= client.beta.threads.create(\n",
    "    messages=[\n",
    "        {\n",
    "            \"role\":\"user\",\n",
    "            \"content\": content,\n",
    "            \"attachments\":[\n",
    "                {\"file_id\": message_file.id,\n",
    "                \"tools\":[{\"type\":\"file_search\"}]}\n",
    "            ],\n",
    "\n",
    "        }\n",
    "    ]\n",
    "                 )\n",
    "\n",
    "run= client.beta.threads.runs.create_and_poll(\n",
    "thread_id= thread.id, assistant_id= assistant.id)\n",
    "\n",
    "messages= list(client.beta.threads.messages.list(thread_id=thread.id, run_id= run.id))\n",
    "message_content= messages[0].content[0].text\n",
    "annotations= message_content.annotations\n",
    "citations=[]\n",
    "for index, annotation in enumerate(annotations):\n",
    "             message_content.valye= message_content.value .replace(annotation.text,\"\"). replace(\".\", \"\")\n",
    "             if file_citation :=getattr(annotations, \"file_citation\", None):\n",
    "                 cited_file= client.files.retrieve(file_citation.file.id)\n",
    "                 citations.append(f\"[{index}] {cited_file.filename}\")\n",
    "cand_name= message_content.value.replace(\".\", \"\"). strip()\n"
   ]
  },
  {
   "cell_type": "code",
<<<<<<< HEAD
   "execution_count": null,
=======
   "execution_count": 3,
>>>>>>> 7b612116e4c19dc897b64e541763862cf5c25cad
   "id": "98ded2c3",
   "metadata": {
    "colab": {
     "base_uri": "https://localhost:8080/"
    },
    "id": "98ded2c3",
    "outputId": "d29cc3d1-4fbf-41c1-d444-4f9001301c28"
   },
   "outputs": [
    {
     "name": "stdout",
     "output_type": "stream",
     "text": [
<<<<<<< HEAD
      "Based on the detailed findings and comprehensive analysis within the provided paper, \"100 Papers in Clinical Psychiatry: Comparative efficacy and acceptability of 12 new-generation antidepressants: a multiple-treatments meta-analysis\", the following dataframe `paper1` summarizes the primary entities (antidepressants) and their relationships with each other in terms of efficacy and acceptability\n",
=======
      "Based on the information gleaned from the clinical paper on depression, antidepressants, and treatments, we can create a dataframe named \"paper1\" which outlines the relationships between various entities such as drugs, conditions, and side effects This dataframe will have columns labeled \"entity1\", \"relationship\", and \"entity2\", as specified Below is a summary representation of such a dataframe capturing the notable relationships identified in the paper:\n",
>>>>>>> 7b612116e4c19dc897b64e541763862cf5c25cad
      "\n",
      "```python\n",
      "import pandas as pd\n",
      "\n",
<<<<<<< HEAD
      "# Define data\n",
      "data = {\n",
      "    \"entity1\": [\n",
      "        \"Mirtazapine\", \"Escitalopram\", \"Venlafaxine\", \"Sertraline\",\n",
      "        \"Mirtazapine\", \"Escitalopram\", \"Venlafaxine\", \"Sertraline\",\n",
      "        \"Escitalopram\", \"Sertraline\"\n",
      "    ],\n",
      "    \"relationship\": [\n",
      "        \"more efficacious than\", \"more efficacious than\", \"more efficacious than\", \"more efficacious than\",\n",
      "        \"more acceptable than\", \"more acceptable than\", \"less well tolerated than\", \"better tolerated than\",\n",
      "        \"best profile of acceptability\", \"best profile of acceptability\"\n",
      "    ],\n",
      "    \"entity2\": [\n",
      "        \"Duloxetine, Fluoxetine, Fluvoxamine, Paroxetine, Reboxetine\", \n",
      "        \"Duloxetine, Fluoxetine, Fluvoxamine, Paroxetine, Reboxetine\", \n",
      "        \"Duloxetine, Fluoxetine, Fluvoxamine, Paroxetine, Reboxetine\", \n",
      "        \"Duloxetine, Fluoxetine, Fluvoxamine, Paroxetine, Reboxetine\", \n",
      "        \"Duloxetine, Fluvoxamine, Paroxetine, Reboxetine, Venlafaxine\", \n",
      "        \"Duloxetine, Fluvoxamine, Paroxetine, Reboxetine, Venlafaxine\",\n",
      "        \"Escitalopram\",\n",
      "        \"Duloxetine, Fluvoxamine, Paroxetine, Reboxetine\",\n",
      "        \"among antidepressants\",\n",
      "        \"among antidepressants\"\n",
      "    ]\n",
      "}\n",
      "\n",
      "# Create DataFrame\n",
      "paper1 = pdDataFrame(data)\n",
      "\n",
      "# Display DataFrame in a readable format\n",
      "print(paper1)\n",
      "```\n",
      "\n",
      "This table matrix succinctly represents the comparative efficacy and acceptability among the specified new-generation antidepressants, showcasing direct and indirect relationships between them, including which are more efficacious or acceptable than others, as well as those that are better or less tolerated in comparison to each other Notably, it highlights the superiority of escitalopram and sertraline in terms of both efficacy and acceptability across the studied antidepressants\n"
=======
      "# Define data for the DataFrame\n",
      "data = {\n",
      "    'entity1': ['Mirtazapine', 'Sertraline', 'Venlafaxine', 'Reboxetine', 'Escitalopram', 'Venlafaxine', 'Fluoxetine', 'Duloxetine', 'Fluvoxamine', 'Milnacipran'],\n",
      "    'relationship': ['is more effective than', 'has lower remission with', 'is used in combination with', 'is augmented by', 'improves', 'is used to treat', 'has side effect of', 'experiences more', 'is augmented by', 'improves'],\n",
      "    'entity2': ['Fluoxetine', 'Depressive Disorders', 'Mirtazapine', 'Major Depression', 'Major Depressive Disorder', 'Depression', 'Nausea', 'Anxiety', 'Depression', 'Depression']\n",
      "}\n",
      "\n",
      "# Create the DataFrame\n",
      "paper1 = pdDataFrame(data)\n",
      "\n",
      "# Display the DataFrame\n",
      "print(paper1)\n",
      "```\n",
      "\n",
      "This dataframe captures various types of relationships, such as one drug being more effective than another, a drug having specific side effects, and one condition experiencing more improvement than another with a particular treatment It's a simplification and summary of the complex interrelations presented in the clinical paper on depression and antidepressant treatments The specific content, including drugs and their effects, are directly informed by the text from the clinical study provided in the results above \n",
      "\n",
      "For further details, referring directly to the clinical paper would provide the comprehensive evidence and context behind each of these summarized relationships\n"
>>>>>>> 7b612116e4c19dc897b64e541763862cf5c25cad
     ]
    }
   ],
   "source": [
    "print(cand_name)"
   ]
  },
  {
   "cell_type": "code",
<<<<<<< HEAD
   "execution_count": null,
=======
   "execution_count": 4,
>>>>>>> 7b612116e4c19dc897b64e541763862cf5c25cad
   "id": "63e5e3ab",
   "metadata": {
    "colab": {
     "base_uri": "https://localhost:8080/",
     "height": 206
    },
    "id": "63e5e3ab",
    "outputId": "c70e3138-d23b-4570-b322-8d512ad5b7bf"
   },
   "outputs": [
    {
     "data": {
<<<<<<< HEAD
      "application/vnd.google.colaboratory.intrinsic+json": {
       "summary": "{\n  \"name\": \"paper1\",\n  \"rows\": 5,\n  \"fields\": [\n    {\n      \"column\": \"entity1\",\n      \"properties\": {\n        \"dtype\": \"string\",\n        \"num_unique_values\": 4,\n        \"samples\": [\n          \"Mirtazapine\",\n          \"Duloxetine\",\n          \"Escitalopram\"\n        ],\n        \"semantic_type\": \"\",\n        \"description\": \"\"\n      }\n    },\n    {\n      \"column\": \"relationship\",\n      \"properties\": {\n        \"dtype\": \"string\",\n        \"num_unique_values\": 3,\n        \"samples\": [\n          \"More efficacious than\",\n          \"Better tolerated than\",\n          \"Less well tolerated than\"\n        ],\n        \"semantic_type\": \"\",\n        \"description\": \"\"\n      }\n    },\n    {\n      \"column\": \"entity2\",\n      \"properties\": {\n        \"dtype\": \"string\",\n        \"num_unique_values\": 3,\n        \"samples\": [\n          \"Duloxetine, Fluoxetine, Fluvoxamine, Paroxetine, Reboxetine\",\n          \"Fluoxetine\",\n          \"Escitalopram, Sertraline\"\n        ],\n        \"semantic_type\": \"\",\n        \"description\": \"\"\n      }\n    }\n  ]\n}",
       "type": "dataframe",
       "variable_name": "paper1"
      },
      "text/html": [
       "\n",
       "  <div id=\"df-f99c23f6-2c32-4f86-8265-fcf911d40652\" class=\"colab-df-container\">\n",
       "    <div>\n",
=======
      "text/html": [
       "<div>\n",
>>>>>>> 7b612116e4c19dc897b64e541763862cf5c25cad
       "<style scoped>\n",
       "    .dataframe tbody tr th:only-of-type {\n",
       "        vertical-align: middle;\n",
       "    }\n",
       "\n",
       "    .dataframe tbody tr th {\n",
       "        vertical-align: top;\n",
       "    }\n",
       "\n",
       "    .dataframe thead th {\n",
       "        text-align: right;\n",
       "    }\n",
       "</style>\n",
       "<table border=\"1\" class=\"dataframe\">\n",
       "  <thead>\n",
       "    <tr style=\"text-align: right;\">\n",
       "      <th></th>\n",
       "      <th>entity1</th>\n",
       "      <th>relationship</th>\n",
       "      <th>entity2</th>\n",
       "    </tr>\n",
       "  </thead>\n",
       "  <tbody>\n",
       "    <tr>\n",
       "      <th>0</th>\n",
<<<<<<< HEAD
       "      <td>Escitalopram</td>\n",
       "      <td>More efficacious than</td>\n",
       "      <td>Duloxetine, Fluoxetine, Fluvoxamine, Paroxetin...</td>\n",
       "    </tr>\n",
       "    <tr>\n",
       "      <th>1</th>\n",
       "      <td>Mirtazapine</td>\n",
       "      <td>More efficacious than</td>\n",
       "      <td>Fluoxetine</td>\n",
       "    </tr>\n",
       "    <tr>\n",
       "      <th>2</th>\n",
       "      <td>Sertraline</td>\n",
       "      <td>More efficacious than</td>\n",
       "      <td>Fluoxetine</td>\n",
       "    </tr>\n",
       "    <tr>\n",
       "      <th>3</th>\n",
       "      <td>Escitalopram</td>\n",
       "      <td>Better tolerated than</td>\n",
       "      <td>Escitalopram, Sertraline</td>\n",
       "    </tr>\n",
       "    <tr>\n",
       "      <th>4</th>\n",
       "      <td>Duloxetine</td>\n",
       "      <td>Less well tolerated than</td>\n",
       "      <td>Escitalopram, Sertraline</td>\n",
       "    </tr>\n",
       "  </tbody>\n",
       "</table>\n",
       "</div>\n",
       "    <div class=\"colab-df-buttons\">\n",
       "\n",
       "  <div class=\"colab-df-container\">\n",
       "    <button class=\"colab-df-convert\" onclick=\"convertToInteractive('df-f99c23f6-2c32-4f86-8265-fcf911d40652')\"\n",
       "            title=\"Convert this dataframe to an interactive table.\"\n",
       "            style=\"display:none;\">\n",
       "\n",
       "  <svg xmlns=\"http://www.w3.org/2000/svg\" height=\"24px\" viewBox=\"0 -960 960 960\">\n",
       "    <path d=\"M120-120v-720h720v720H120Zm60-500h600v-160H180v160Zm220 220h160v-160H400v160Zm0 220h160v-160H400v160ZM180-400h160v-160H180v160Zm440 0h160v-160H620v160ZM180-180h160v-160H180v160Zm440 0h160v-160H620v160Z\"/>\n",
       "  </svg>\n",
       "    </button>\n",
       "\n",
       "  <style>\n",
       "    .colab-df-container {\n",
       "      display:flex;\n",
       "      gap: 12px;\n",
       "    }\n",
       "\n",
       "    .colab-df-convert {\n",
       "      background-color: #E8F0FE;\n",
       "      border: none;\n",
       "      border-radius: 50%;\n",
       "      cursor: pointer;\n",
       "      display: none;\n",
       "      fill: #1967D2;\n",
       "      height: 32px;\n",
       "      padding: 0 0 0 0;\n",
       "      width: 32px;\n",
       "    }\n",
       "\n",
       "    .colab-df-convert:hover {\n",
       "      background-color: #E2EBFA;\n",
       "      box-shadow: 0px 1px 2px rgba(60, 64, 67, 0.3), 0px 1px 3px 1px rgba(60, 64, 67, 0.15);\n",
       "      fill: #174EA6;\n",
       "    }\n",
       "\n",
       "    .colab-df-buttons div {\n",
       "      margin-bottom: 4px;\n",
       "    }\n",
       "\n",
       "    [theme=dark] .colab-df-convert {\n",
       "      background-color: #3B4455;\n",
       "      fill: #D2E3FC;\n",
       "    }\n",
       "\n",
       "    [theme=dark] .colab-df-convert:hover {\n",
       "      background-color: #434B5C;\n",
       "      box-shadow: 0px 1px 3px 1px rgba(0, 0, 0, 0.15);\n",
       "      filter: drop-shadow(0px 1px 2px rgba(0, 0, 0, 0.3));\n",
       "      fill: #FFFFFF;\n",
       "    }\n",
       "  </style>\n",
       "\n",
       "    <script>\n",
       "      const buttonEl =\n",
       "        document.querySelector('#df-f99c23f6-2c32-4f86-8265-fcf911d40652 button.colab-df-convert');\n",
       "      buttonEl.style.display =\n",
       "        google.colab.kernel.accessAllowed ? 'block' : 'none';\n",
       "\n",
       "      async function convertToInteractive(key) {\n",
       "        const element = document.querySelector('#df-f99c23f6-2c32-4f86-8265-fcf911d40652');\n",
       "        const dataTable =\n",
       "          await google.colab.kernel.invokeFunction('convertToInteractive',\n",
       "                                                    [key], {});\n",
       "        if (!dataTable) return;\n",
       "\n",
       "        const docLinkHtml = 'Like what you see? Visit the ' +\n",
       "          '<a target=\"_blank\" href=https://colab.research.google.com/notebooks/data_table.ipynb>data table notebook</a>'\n",
       "          + ' to learn more about interactive tables.';\n",
       "        element.innerHTML = '';\n",
       "        dataTable['output_type'] = 'display_data';\n",
       "        await google.colab.output.renderOutput(dataTable, element);\n",
       "        const docLink = document.createElement('div');\n",
       "        docLink.innerHTML = docLinkHtml;\n",
       "        element.appendChild(docLink);\n",
       "      }\n",
       "    </script>\n",
       "  </div>\n",
       "\n",
       "\n",
       "<div id=\"df-36b9677d-9542-41e9-98d1-5cf5e90cafd4\">\n",
       "  <button class=\"colab-df-quickchart\" onclick=\"quickchart('df-36b9677d-9542-41e9-98d1-5cf5e90cafd4')\"\n",
       "            title=\"Suggest charts\"\n",
       "            style=\"display:none;\">\n",
       "\n",
       "<svg xmlns=\"http://www.w3.org/2000/svg\" height=\"24px\"viewBox=\"0 0 24 24\"\n",
       "     width=\"24px\">\n",
       "    <g>\n",
       "        <path d=\"M19 3H5c-1.1 0-2 .9-2 2v14c0 1.1.9 2 2 2h14c1.1 0 2-.9 2-2V5c0-1.1-.9-2-2-2zM9 17H7v-7h2v7zm4 0h-2V7h2v10zm4 0h-2v-4h2v4z\"/>\n",
       "    </g>\n",
       "</svg>\n",
       "  </button>\n",
       "\n",
       "<style>\n",
       "  .colab-df-quickchart {\n",
       "      --bg-color: #E8F0FE;\n",
       "      --fill-color: #1967D2;\n",
       "      --hover-bg-color: #E2EBFA;\n",
       "      --hover-fill-color: #174EA6;\n",
       "      --disabled-fill-color: #AAA;\n",
       "      --disabled-bg-color: #DDD;\n",
       "  }\n",
       "\n",
       "  [theme=dark] .colab-df-quickchart {\n",
       "      --bg-color: #3B4455;\n",
       "      --fill-color: #D2E3FC;\n",
       "      --hover-bg-color: #434B5C;\n",
       "      --hover-fill-color: #FFFFFF;\n",
       "      --disabled-bg-color: #3B4455;\n",
       "      --disabled-fill-color: #666;\n",
       "  }\n",
       "\n",
       "  .colab-df-quickchart {\n",
       "    background-color: var(--bg-color);\n",
       "    border: none;\n",
       "    border-radius: 50%;\n",
       "    cursor: pointer;\n",
       "    display: none;\n",
       "    fill: var(--fill-color);\n",
       "    height: 32px;\n",
       "    padding: 0;\n",
       "    width: 32px;\n",
       "  }\n",
       "\n",
       "  .colab-df-quickchart:hover {\n",
       "    background-color: var(--hover-bg-color);\n",
       "    box-shadow: 0 1px 2px rgba(60, 64, 67, 0.3), 0 1px 3px 1px rgba(60, 64, 67, 0.15);\n",
       "    fill: var(--button-hover-fill-color);\n",
       "  }\n",
       "\n",
       "  .colab-df-quickchart-complete:disabled,\n",
       "  .colab-df-quickchart-complete:disabled:hover {\n",
       "    background-color: var(--disabled-bg-color);\n",
       "    fill: var(--disabled-fill-color);\n",
       "    box-shadow: none;\n",
       "  }\n",
       "\n",
       "  .colab-df-spinner {\n",
       "    border: 2px solid var(--fill-color);\n",
       "    border-color: transparent;\n",
       "    border-bottom-color: var(--fill-color);\n",
       "    animation:\n",
       "      spin 1s steps(1) infinite;\n",
       "  }\n",
       "\n",
       "  @keyframes spin {\n",
       "    0% {\n",
       "      border-color: transparent;\n",
       "      border-bottom-color: var(--fill-color);\n",
       "      border-left-color: var(--fill-color);\n",
       "    }\n",
       "    20% {\n",
       "      border-color: transparent;\n",
       "      border-left-color: var(--fill-color);\n",
       "      border-top-color: var(--fill-color);\n",
       "    }\n",
       "    30% {\n",
       "      border-color: transparent;\n",
       "      border-left-color: var(--fill-color);\n",
       "      border-top-color: var(--fill-color);\n",
       "      border-right-color: var(--fill-color);\n",
       "    }\n",
       "    40% {\n",
       "      border-color: transparent;\n",
       "      border-right-color: var(--fill-color);\n",
       "      border-top-color: var(--fill-color);\n",
       "    }\n",
       "    60% {\n",
       "      border-color: transparent;\n",
       "      border-right-color: var(--fill-color);\n",
       "    }\n",
       "    80% {\n",
       "      border-color: transparent;\n",
       "      border-right-color: var(--fill-color);\n",
       "      border-bottom-color: var(--fill-color);\n",
       "    }\n",
       "    90% {\n",
       "      border-color: transparent;\n",
       "      border-bottom-color: var(--fill-color);\n",
       "    }\n",
       "  }\n",
       "</style>\n",
       "\n",
       "  <script>\n",
       "    async function quickchart(key) {\n",
       "      const quickchartButtonEl =\n",
       "        document.querySelector('#' + key + ' button');\n",
       "      quickchartButtonEl.disabled = true;  // To prevent multiple clicks.\n",
       "      quickchartButtonEl.classList.add('colab-df-spinner');\n",
       "      try {\n",
       "        const charts = await google.colab.kernel.invokeFunction(\n",
       "            'suggestCharts', [key], {});\n",
       "      } catch (error) {\n",
       "        console.error('Error during call to suggestCharts:', error);\n",
       "      }\n",
       "      quickchartButtonEl.classList.remove('colab-df-spinner');\n",
       "      quickchartButtonEl.classList.add('colab-df-quickchart-complete');\n",
       "    }\n",
       "    (() => {\n",
       "      let quickchartButtonEl =\n",
       "        document.querySelector('#df-36b9677d-9542-41e9-98d1-5cf5e90cafd4 button');\n",
       "      quickchartButtonEl.style.display =\n",
       "        google.colab.kernel.accessAllowed ? 'block' : 'none';\n",
       "    })();\n",
       "  </script>\n",
       "</div>\n",
       "\n",
       "    </div>\n",
       "  </div>\n"
      ],
      "text/plain": [
       "        entity1              relationship  \\\n",
       "0  Escitalopram     More efficacious than   \n",
       "1   Mirtazapine     More efficacious than   \n",
       "2    Sertraline     More efficacious than   \n",
       "3  Escitalopram     Better tolerated than   \n",
       "4    Duloxetine  Less well tolerated than   \n",
       "\n",
       "                                             entity2  \n",
       "0  Duloxetine, Fluoxetine, Fluvoxamine, Paroxetin...  \n",
       "1                                         Fluoxetine  \n",
       "2                                         Fluoxetine  \n",
       "3                           Escitalopram, Sertraline  \n",
       "4                           Escitalopram, Sertraline  "
      ]
     },
     "execution_count": 8,
=======
       "      <td>Mirtazapine</td>\n",
       "      <td>is more effective than</td>\n",
       "      <td>Fluoxetine</td>\n",
       "    </tr>\n",
       "    <tr>\n",
       "      <th>1</th>\n",
       "      <td>Sertraline</td>\n",
       "      <td>has lower remission with</td>\n",
       "      <td>Depressive Disorders</td>\n",
       "    </tr>\n",
       "    <tr>\n",
       "      <th>2</th>\n",
       "      <td>Venlafaxine</td>\n",
       "      <td>is used in combination with</td>\n",
       "      <td>Mirtazapine</td>\n",
       "    </tr>\n",
       "    <tr>\n",
       "      <th>3</th>\n",
       "      <td>Reboxetine</td>\n",
       "      <td>is augmented by</td>\n",
       "      <td>Major Depression</td>\n",
       "    </tr>\n",
       "    <tr>\n",
       "      <th>4</th>\n",
       "      <td>Escitalopram</td>\n",
       "      <td>improves</td>\n",
       "      <td>Major Depressive Disorder</td>\n",
       "    </tr>\n",
       "  </tbody>\n",
       "</table>\n",
       "</div>"
      ],
      "text/plain": [
       "        entity1                 relationship                    entity2\n",
       "0   Mirtazapine       is more effective than                 Fluoxetine\n",
       "1    Sertraline     has lower remission with       Depressive Disorders\n",
       "2   Venlafaxine  is used in combination with                Mirtazapine\n",
       "3    Reboxetine              is augmented by           Major Depression\n",
       "4  Escitalopram                     improves  Major Depressive Disorder"
      ]
     },
     "execution_count": 4,
>>>>>>> 7b612116e4c19dc897b64e541763862cf5c25cad
     "metadata": {},
     "output_type": "execute_result"
    }
   ],
   "source": [
    "import pandas as pd\n",
    "data = {\n",
<<<<<<< HEAD
    "    \"entity1\": [\"Escitalopram\", \"Mirtazapine\", \"Sertraline\", \"Escitalopram\", \"Duloxetine\"],\n",
    "    \"relationship\": [\"More efficacious than\", \"More efficacious than\", \"More efficacious than\", \"Better tolerated than\", \"Less well tolerated than\"],\n",
    "    \"entity2\": [\"Duloxetine, Fluoxetine, Fluvoxamine, Paroxetine, Reboxetine\", \"Fluoxetine\", \"Fluoxetine\", \"Escitalopram, Sertraline\", \"Escitalopram, Sertraline\"]\n",
=======
    "    'entity1': ['Mirtazapine', 'Sertraline', 'Venlafaxine', 'Reboxetine', 'Escitalopram', 'Venlafaxine', 'Fluoxetine', 'Duloxetine', 'Fluvoxamine', 'Milnacipran'],\n",
    "    'relationship': ['is more effective than', 'has lower remission with', 'is used in combination with', 'is augmented by', 'improves', 'is used to treat', 'has side effect of', 'experiences more', 'is augmented by', 'improves'],\n",
    "    'entity2': ['Fluoxetine', 'Depressive Disorders', 'Mirtazapine', 'Major Depression', 'Major Depressive Disorder', 'Depression', 'Nausea', 'Anxiety', 'Depression', 'Depression']\n",
>>>>>>> 7b612116e4c19dc897b64e541763862cf5c25cad
    "}\n",
    "paper1 = pd.DataFrame(data)\n",
    "paper1.head()\n"
   ]
  },
  {
   "cell_type": "code",
<<<<<<< HEAD
   "execution_count": null,
=======
   "execution_count": 5,
>>>>>>> 7b612116e4c19dc897b64e541763862cf5c25cad
   "id": "80f91e67",
   "metadata": {
    "colab": {
     "base_uri": "https://localhost:8080/"
    },
    "id": "80f91e67",
    "outputId": "6c1f9d0f-b633-4c0f-e68b-fd75db5efd30"
   },
   "outputs": [
    {
     "name": "stdout",
     "output_type": "stream",
     "text": [
<<<<<<< HEAD
      "Nodes: [('Escitalopram', {'type': 'entity1'}), ('Duloxetine, Fluoxetine, Fluvoxamine, Paroxetine, Reboxetine', {'type': 'entity2'}), ('Mirtazapine', {'type': 'entity1'}), ('Fluoxetine', {'type': 'entity2'}), ('Sertraline', {'type': 'entity1'}), ('Escitalopram, Sertraline', {'type': 'entity2'}), ('Duloxetine', {'type': 'entity1'})]\n",
      "Edges: [('Escitalopram', 'Duloxetine, Fluoxetine, Fluvoxamine, Paroxetine, Reboxetine', {'relationship': 'More efficacious than'}), ('Escitalopram', 'Escitalopram, Sertraline', {'relationship': 'Better tolerated than'}), ('Mirtazapine', 'Fluoxetine', {'relationship': 'More efficacious than'}), ('Sertraline', 'Fluoxetine', {'relationship': 'More efficacious than'}), ('Duloxetine', 'Escitalopram, Sertraline', {'relationship': 'Less well tolerated than'})]\n"
=======
      "Nodes: [('Mirtazapine', {'type': 'entity2'}), ('Fluoxetine', {'type': 'entity1'}), ('Sertraline', {'type': 'entity1'}), ('Depressive Disorders', {'type': 'entity2'}), ('Venlafaxine', {'type': 'entity1'}), ('Reboxetine', {'type': 'entity1'}), ('Major Depression', {'type': 'entity2'}), ('Escitalopram', {'type': 'entity1'}), ('Major Depressive Disorder', {'type': 'entity2'}), ('Depression', {'type': 'entity2'}), ('Nausea', {'type': 'entity2'}), ('Duloxetine', {'type': 'entity1'}), ('Anxiety', {'type': 'entity2'}), ('Fluvoxamine', {'type': 'entity1'}), ('Milnacipran', {'type': 'entity1'})]\n",
      "Edges: [('Mirtazapine', 'Fluoxetine', {'relationship': 'is more effective than'}), ('Fluoxetine', 'Nausea', {'relationship': 'has side effect of'}), ('Sertraline', 'Depressive Disorders', {'relationship': 'has lower remission with'}), ('Venlafaxine', 'Mirtazapine', {'relationship': 'is used in combination with'}), ('Venlafaxine', 'Depression', {'relationship': 'is used to treat'}), ('Reboxetine', 'Major Depression', {'relationship': 'is augmented by'}), ('Escitalopram', 'Major Depressive Disorder', {'relationship': 'improves'}), ('Duloxetine', 'Anxiety', {'relationship': 'experiences more'}), ('Fluvoxamine', 'Depression', {'relationship': 'is augmented by'}), ('Milnacipran', 'Depression', {'relationship': 'improves'})]\n"
>>>>>>> 7b612116e4c19dc897b64e541763862cf5c25cad
     ]
    }
   ],
   "source": [
    "import networkx as nx\n",
    "\n",
    "G= nx.DiGraph()\n",
    "\n",
    "for _, row in paper1.iterrows():\n",
    "    drug1 = row['entity1']\n",
    "    relationship = row['relationship']\n",
    "    drug2 = row['entity2']\n",
    "\n",
    "    G.add_node(drug1, type='entity1')\n",
    "    G.add_node(drug2, type='entity2')\n",
    "\n",
    "\n",
    "    G.add_edge(drug1, drug2, relationship=relationship)\n",
    "\n",
    "print(\"Nodes:\", G.nodes(data=True))\n",
    "print(\"Edges:\", G.edges(data=True))"
   ]
  },
  {
   "cell_type": "code",
<<<<<<< HEAD
   "execution_count": null,
=======
   "execution_count": 100,
>>>>>>> 7b612116e4c19dc897b64e541763862cf5c25cad
   "id": "rrl9tSw0jNQ0",
   "metadata": {
    "colab": {
     "base_uri": "https://localhost:8080/",
     "height": 582
    },
    "id": "rrl9tSw0jNQ0",
    "outputId": "b588917a-5dba-4361-dafd-5818ffba1dc6"
   },
   "outputs": [
    {
<<<<<<< HEAD
     "ename": "NameError",
     "evalue": "name 'plt' is not defined",
     "output_type": "error",
     "traceback": [
      "\u001b[0;31m---------------------------------------------------------------------------\u001b[0m",
      "\u001b[0;31mNameError\u001b[0m                                 Traceback (most recent call last)",
      "\u001b[0;32m<ipython-input-22-84d928cbcbbb>\u001b[0m in \u001b[0;36m<cell line: 6>\u001b[0;34m()\u001b[0m\n\u001b[1;32m      4\u001b[0m \u001b[0mnx\u001b[0m\u001b[0;34m.\u001b[0m\u001b[0mdraw_networkx_labels\u001b[0m\u001b[0;34m(\u001b[0m\u001b[0mG\u001b[0m\u001b[0;34m,\u001b[0m \u001b[0mpos\u001b[0m\u001b[0;34m=\u001b[0m\u001b[0mg\u001b[0m\u001b[0;34m,\u001b[0m \u001b[0mfont_size\u001b[0m\u001b[0;34m=\u001b[0m\u001b[0;36m10\u001b[0m\u001b[0;34m,\u001b[0m \u001b[0mfont_family\u001b[0m\u001b[0;34m=\u001b[0m\u001b[0;34m'sans-serif'\u001b[0m\u001b[0;34m)\u001b[0m\u001b[0;34m\u001b[0m\u001b[0;34m\u001b[0m\u001b[0m\n\u001b[1;32m      5\u001b[0m \u001b[0mnx\u001b[0m\u001b[0;34m.\u001b[0m\u001b[0mdraw_networkx_edge_labels\u001b[0m\u001b[0;34m(\u001b[0m\u001b[0mG\u001b[0m\u001b[0;34m,\u001b[0m \u001b[0mpos\u001b[0m\u001b[0;34m=\u001b[0m\u001b[0mg\u001b[0m\u001b[0;34m,\u001b[0m \u001b[0medge_labels\u001b[0m\u001b[0;34m=\u001b[0m\u001b[0;34m{\u001b[0m\u001b[0;34m(\u001b[0m\u001b[0mu\u001b[0m\u001b[0;34m,\u001b[0m \u001b[0mv\u001b[0m\u001b[0;34m)\u001b[0m\u001b[0;34m:\u001b[0m \u001b[0md\u001b[0m\u001b[0;34m[\u001b[0m\u001b[0;34m'relationship'\u001b[0m\u001b[0;34m]\u001b[0m \u001b[0;32mfor\u001b[0m \u001b[0mu\u001b[0m\u001b[0;34m,\u001b[0m \u001b[0mv\u001b[0m\u001b[0;34m,\u001b[0m \u001b[0md\u001b[0m \u001b[0;32min\u001b[0m \u001b[0mG\u001b[0m\u001b[0;34m.\u001b[0m\u001b[0medges\u001b[0m\u001b[0;34m(\u001b[0m\u001b[0mdata\u001b[0m\u001b[0;34m=\u001b[0m\u001b[0;32mTrue\u001b[0m\u001b[0;34m)\u001b[0m\u001b[0;34m}\u001b[0m\u001b[0;34m)\u001b[0m\u001b[0;34m\u001b[0m\u001b[0;34m\u001b[0m\u001b[0m\n\u001b[0;32m----> 6\u001b[0;31m \u001b[0mplt\u001b[0m\u001b[0;34m.\u001b[0m\u001b[0maxis\u001b[0m\u001b[0;34m(\u001b[0m\u001b[0;34m'off'\u001b[0m\u001b[0;34m)\u001b[0m\u001b[0;34m\u001b[0m\u001b[0;34m\u001b[0m\u001b[0m\n\u001b[0m\u001b[1;32m      7\u001b[0m \u001b[0mplt\u001b[0m\u001b[0;34m.\u001b[0m\u001b[0mshow\u001b[0m\u001b[0;34m(\u001b[0m\u001b[0;34m)\u001b[0m\u001b[0;34m\u001b[0m\u001b[0;34m\u001b[0m\u001b[0m\n",
      "\u001b[0;31mNameError\u001b[0m: name 'plt' is not defined"
     ]
    },
    {
     "data": {
      "image/png": "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\n",
=======
     "data": {
      "image/png": "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",
>>>>>>> 7b612116e4c19dc897b64e541763862cf5c25cad
      "text/plain": [
       "<Figure size 640x480 with 1 Axes>"
      ]
     },
     "metadata": {},
     "output_type": "display_data"
    }
   ],
   "source": [
    "#Graph w/o localhost\n",
<<<<<<< HEAD
    "g=nx.spring_layout(G)\n",
    "nx.draw_networkx_nodes(G, pos=g, node_color='lightblue', node_size=500)\n",
    "nx.draw_networkx_edges(G, pos=g, edge_color='gray', arrows=True)\n",
    "nx.draw_networkx_labels(G, pos=g, font_size=10, font_family='sans-serif')\n",
    "nx.draw_networkx_edge_labels(G, pos=g, edge_labels={(u, v): d['relationship'] for u, v, d in G.edges(data=True)})\n",
    "plt.axis('off')\n",
    "plt.show()"
=======
    "import matplotlib.pyplot as plt\n",
    "import networkx as nx\n",
    "\n",
    "g = nx.spring_layout(G)\n",
    "\n",
    "nx.draw_networkx_nodes(G, pos=g, node_color='lightblue', node_size=40)\n",
    "\n",
    "nx.draw_networkx_edges(G, pos=g, edge_color='gray', arrows=True, arrowstyle='-|>', arrowsize=10)\n",
    "\n",
    "nx.draw_networkx_labels(G, pos=g, font_size=5.7,  font_family='sans-serif')\n",
    "\n",
    "edge_labels = {(u, v): d['relationship'] for u, v, d in G.edges(data=True)}\n",
    "nx.draw_networkx_edge_labels(G, pos=g, edge_labels=edge_labels, font_size=5, label_pos=2, font_color='red')\n",
    "\n",
    "plt.axis('off')\n",
    "\n",
    "plt.show()\n"
>>>>>>> 7b612116e4c19dc897b64e541763862cf5c25cad
   ]
  },
  {
   "cell_type": "code",
<<<<<<< HEAD
   "execution_count": null,
=======
   "execution_count": 7,
>>>>>>> 7b612116e4c19dc897b64e541763862cf5c25cad
   "id": "fe941160",
   "metadata": {
    "colab": {
     "base_uri": "https://localhost:8080/"
    },
    "id": "fe941160",
    "outputId": "d02af277-6c50-4493-93e9-2571ebb6eb4d"
   },
   "outputs": [
    {
     "name": "stdout",
     "output_type": "stream",
     "text": [
<<<<<<< HEAD
=======
      "Requirement already satisfied: pyvis in c:\\users\\anush\\appdata\\local\\anaconda3\\lib\\site-packages (0.3.2)\n",
      "Requirement already satisfied: ipython>=5.3.0 in c:\\users\\anush\\appdata\\local\\anaconda3\\lib\\site-packages (from pyvis) (8.15.0)\n",
      "Requirement already satisfied: jinja2>=2.9.6 in c:\\users\\anush\\appdata\\local\\anaconda3\\lib\\site-packages (from pyvis) (3.1.2)\n",
      "Requirement already satisfied: jsonpickle>=1.4.1 in c:\\users\\anush\\appdata\\local\\anaconda3\\lib\\site-packages (from pyvis) (3.3.0)\n",
      "Requirement already satisfied: networkx>=1.11 in c:\\users\\anush\\appdata\\local\\anaconda3\\lib\\site-packages (from pyvis) (3.1)\n",
      "Requirement already satisfied: backcall in c:\\users\\anush\\appdata\\local\\anaconda3\\lib\\site-packages (from ipython>=5.3.0->pyvis) (0.2.0)\n",
      "Requirement already satisfied: decorator in c:\\users\\anush\\appdata\\local\\anaconda3\\lib\\site-packages (from ipython>=5.3.0->pyvis) (5.1.1)\n",
      "Requirement already satisfied: jedi>=0.16 in c:\\users\\anush\\appdata\\local\\anaconda3\\lib\\site-packages (from ipython>=5.3.0->pyvis) (0.18.1)\n",
      "Requirement already satisfied: matplotlib-inline in c:\\users\\anush\\appdata\\local\\anaconda3\\lib\\site-packages (from ipython>=5.3.0->pyvis) (0.1.6)\n",
      "Requirement already satisfied: pickleshare in c:\\users\\anush\\appdata\\local\\anaconda3\\lib\\site-packages (from ipython>=5.3.0->pyvis) (0.7.5)\n",
      "Requirement already satisfied: prompt-toolkit!=3.0.37,<3.1.0,>=3.0.30 in c:\\users\\anush\\appdata\\local\\anaconda3\\lib\\site-packages (from ipython>=5.3.0->pyvis) (3.0.36)\n",
      "Requirement already satisfied: pygments>=2.4.0 in c:\\users\\anush\\appdata\\local\\anaconda3\\lib\\site-packages (from ipython>=5.3.0->pyvis) (2.15.1)\n",
      "Requirement already satisfied: stack-data in c:\\users\\anush\\appdata\\local\\anaconda3\\lib\\site-packages (from ipython>=5.3.0->pyvis) (0.2.0)\n",
      "Requirement already satisfied: traitlets>=5 in c:\\users\\anush\\appdata\\local\\anaconda3\\lib\\site-packages (from ipython>=5.3.0->pyvis) (5.7.1)\n",
      "Requirement already satisfied: colorama in c:\\users\\anush\\appdata\\local\\anaconda3\\lib\\site-packages (from ipython>=5.3.0->pyvis) (0.4.6)\n",
      "Requirement already satisfied: MarkupSafe>=2.0 in c:\\users\\anush\\appdata\\local\\anaconda3\\lib\\site-packages (from jinja2>=2.9.6->pyvis) (2.1.1)\n",
      "Requirement already satisfied: parso<0.9.0,>=0.8.0 in c:\\users\\anush\\appdata\\local\\anaconda3\\lib\\site-packages (from jedi>=0.16->ipython>=5.3.0->pyvis) (0.8.3)\n",
      "Requirement already satisfied: wcwidth in c:\\users\\anush\\appdata\\local\\anaconda3\\lib\\site-packages (from prompt-toolkit!=3.0.37,<3.1.0,>=3.0.30->ipython>=5.3.0->pyvis) (0.2.5)\n",
      "Requirement already satisfied: executing in c:\\users\\anush\\appdata\\local\\anaconda3\\lib\\site-packages (from stack-data->ipython>=5.3.0->pyvis) (0.8.3)\n",
      "Requirement already satisfied: asttokens in c:\\users\\anush\\appdata\\local\\anaconda3\\lib\\site-packages (from stack-data->ipython>=5.3.0->pyvis) (2.0.5)\n",
      "Requirement already satisfied: pure-eval in c:\\users\\anush\\appdata\\local\\anaconda3\\lib\\site-packages (from stack-data->ipython>=5.3.0->pyvis) (0.2.2)\n",
      "Requirement already satisfied: six in c:\\users\\anush\\appdata\\local\\anaconda3\\lib\\site-packages (from asttokens->stack-data->ipython>=5.3.0->pyvis) (1.16.0)\n",
>>>>>>> 7b612116e4c19dc897b64e541763862cf5c25cad
      "Warning: When  cdn_resources is 'local' jupyter notebook has issues displaying graphics on chrome/safari. Use cdn_resources='in_line' or cdn_resources='remote' if you have issues viewing graphics in a notebook.\n"
     ]
    },
    {
     "data": {
      "text/plain": [
<<<<<<< HEAD
       "<class 'pyvis.network.Network'> |N|=7 |E|=5"
      ]
     },
     "execution_count": 12,
=======
       "<class 'pyvis.network.Network'> |N|=15 |E|=10"
      ]
     },
     "execution_count": 7,
>>>>>>> 7b612116e4c19dc897b64e541763862cf5c25cad
     "metadata": {},
     "output_type": "execute_result"
    }
   ],
   "source": [
    "!pip install pyvis\n",
    "from pyvis.network import Network\n",
    "\n",
    "net = Network(notebook=True, directed=True)\n",
    "\n",
    "for node, data in G.nodes(data=True):\n",
    "    net.add_node(node, label=node, title=f\"Type: {data['type']}\")\n",
    "\n",
    "for source, target, data in G.edges(data=True):\n",
    "    net.add_edge(source, target,  label=data.get('relationship', 'N/A'),title=data['relationship'])\n",
    "\n",
    "net"
   ]
  },
  {
   "cell_type": "code",
   "execution_count": null,
   "id": "ZUz3T7eLoPu7",
   "metadata": {
    "id": "ZUz3T7eLoPu7"
   },
   "outputs": [],
   "source": [
    "!git branch main"
   ]
  },
  {
   "cell_type": "code",
   "execution_count": null,
   "id": "6V4n1eEJsdpz",
   "metadata": {
    "colab": {
     "base_uri": "https://localhost:8080/"
    },
    "id": "6V4n1eEJsdpz",
    "outputId": "8a82a42a-c0fd-4169-81b9-d8413c78b261"
   },
   "outputs": [
    {
     "name": "stdout",
     "output_type": "stream",
     "text": [
      "/content\n"
     ]
    }
   ],
   "source": [
    "!pwd"
   ]
  },
  {
   "cell_type": "code",
   "execution_count": null,
   "id": "K1DA7z1roPzH",
   "metadata": {
    "colab": {
     "base_uri": "https://localhost:8080/"
    },
    "id": "K1DA7z1roPzH",
    "outputId": "e6166729-3b48-40bd-f602-bc50216a7728"
   },
   "outputs": [
    {
     "name": "stdout",
     "output_type": "stream",
     "text": [
      "fatal: pathspec 'Brightside' did not match any files\n",
      "error: remote origin already exists.\n",
      "On branch master\n",
      "Untracked files:\n",
      "  (use \"git add <file>...\" to include in what will be committed)\n",
      "\t\u001b[31mKnowledgeGraphMentalHealth/\u001b[m\n",
      "\n",
      "nothing added to commit but untracked files present (use \"git add\" to track)\n",
      "fatal: could not read Username for 'https://github.com': No such device or address\n"
     ]
    }
   ],
   "source": [
    "\n",
    "!git add /content/\n",
    "!git remote add origin \"https://github.com/rishikasrinivas/KnowledgeGraphMentalHealth.git\"\n",
    "!git config --global user.email \"you@example.com\"\n",
    "!git config --global user.name \"Your Name\"\n",
    "!git commit -m \"GPT code w/ trial kg\"\n",
    "!git push -u origin main"
   ]
<<<<<<< HEAD
=======
  },
  {
   "cell_type": "code",
   "execution_count": 75,
   "id": "302e0951",
   "metadata": {},
   "outputs": [
    {
     "data": {
      "application/vnd.plotly.v1+json": {
       "config": {
        "plotlyServerURL": "https://plot.ly"
       },
       "data": [
        {
         "hoverinfo": "none",
         "line": {
          "color": "#888",
          "width": 0.635
         },
         "mode": "lines",
         "type": "scatter",
         "x": [
          0.01575450963708826,
          -0.01888489885170455,
          null,
          -0.01888489885170455,
          -0.044997734838869215,
          null,
          -0.44046799313097446,
          -0.6355512873602909,
          null,
          0.4266108800987616,
          0.01575450963708826,
          null,
          0.4266108800987616,
          0.838695346489573,
          null,
          -0.6860700081627777,
          -0.7989631334985933,
          null,
          -0.41934312477882923,
          -0.561981920407897,
          null,
          0.4688372456501246,
          0.5383079481170888,
          null,
          0.6130053100107813,
          0.838695346489573,
          null,
          0.7050488610265185,
          0.838695346489573,
          null
         ],
         "y": [
          0.22538255705057444,
          0.40971941564299996,
          null,
          0.40971941564299996,
          0.6122768462578728,
          null,
          -0.24148956905810692,
          -0.12671284633172397,
          null,
          0.2665059645651827,
          0.22538255705057444,
          null,
          0.2665059645651827,
          0.31224143829749834,
          null,
          -0.31725314774022595,
          -0.2575594635434337,
          null,
          0.23185118720650985,
          0.376843607673456,
          null,
          -0.8705646345848552,
          -1,
          null,
          0.13515584854636375,
          0.31224143829749834,
          null,
          0.24360279601788842,
          0.31224143829749834,
          null
         ]
        },
        {
         "hoverinfo": "text",
         "marker": {
          "colorbar": {
           "thickness": 17,
           "title": {
            "side": "right",
            "text": "Node Connections"
           },
           "xanchor": "left"
          },
          "colorscale": [
           [
            0,
            "rgb(247,251,255)"
           ],
           [
            0.125,
            "rgb(222,235,247)"
           ],
           [
            0.25,
            "rgb(198,219,239)"
           ],
           [
            0.375,
            "rgb(158,202,225)"
           ],
           [
            0.5,
            "rgb(107,174,214)"
           ],
           [
            0.625,
            "rgb(66,146,198)"
           ],
           [
            0.75,
            "rgb(33,113,181)"
           ],
           [
            0.875,
            "rgb(8,81,156)"
           ],
           [
            1,
            "rgb(8,48,107)"
           ]
          ],
          "line": {
           "width": 2
          },
          "showscale": true,
          "size": 15
         },
         "mode": "markers+text",
         "text": [
          "Mirtazapine",
          "Fluoxetine",
          "Sertraline",
          "Depressive Disorders",
          "Venlafaxine",
          "Reboxetine",
          "Major Depression",
          "Escitalopram",
          "Major Depressive Disorder",
          "Depression",
          "Nausea",
          "Duloxetine",
          "Anxiety",
          "Fluvoxamine",
          "Milnacipran"
         ],
         "textposition": "top center",
         "type": "scatter",
         "x": [
          0.01575450963708826,
          -0.01888489885170455,
          -0.44046799313097446,
          -0.6355512873602909,
          0.4266108800987616,
          -0.6860700081627777,
          -0.7989631334985933,
          -0.41934312477882923,
          -0.561981920407897,
          0.838695346489573,
          -0.044997734838869215,
          0.4688372456501246,
          0.5383079481170888,
          0.6130053100107813,
          0.7050488610265185
         ],
         "y": [
          0.22538255705057444,
          0.40971941564299996,
          -0.24148956905810692,
          -0.12671284633172397,
          0.2665059645651827,
          -0.31725314774022595,
          -0.2575594635434337,
          0.23185118720650985,
          0.376843607673456,
          0.31224143829749834,
          0.6122768462578728,
          -0.8705646345848552,
          -1,
          0.13515584854636375,
          0.24360279601788842
         ]
        },
        {
         "hoverinfo": "none",
         "mode": "text",
         "text": [
          "is more effective than",
          "has side effect of",
          "has lower remission with",
          "is used in combination with",
          "is used to treat",
          "is augmented by",
          "improves",
          "experiences more",
          "is augmented by",
          "improves"
         ],
         "textposition": "top right",
         "type": "scatter",
         "x": [
          -0.0015651946073081454,
          -0.03194131684528688,
          -0.5380096402456327,
          0.2211826948679249,
          0.6326531132941673,
          -0.7425165708306856,
          -0.49066252259336307,
          0.5035725968836067,
          0.7258503282501771,
          0.7718721037580458
         ],
         "y": [
          0.3175509863467872,
          0.5109981309504363,
          -0.18410120769491545,
          0.24594426080787857,
          0.28937370143134056,
          -0.2874063056418298,
          0.3043473974399829,
          -0.9352823172924276,
          0.22369864342193105,
          0.2779221171576934
         ]
        }
       ],
       "layout": {
        "height": 1000,
        "hovermode": "closest",
        "margin": {
         "b": 0,
         "l": 0,
         "r": 0,
         "t": 0
        },
        "showlegend": false,
        "template": {
         "data": {
          "bar": [
           {
            "error_x": {
             "color": "#2a3f5f"
            },
            "error_y": {
             "color": "#2a3f5f"
            },
            "marker": {
             "line": {
              "color": "#E5ECF6",
              "width": 0.5
             },
             "pattern": {
              "fillmode": "overlay",
              "size": 10,
              "solidity": 0.2
             }
            },
            "type": "bar"
           }
          ],
          "barpolar": [
           {
            "marker": {
             "line": {
              "color": "#E5ECF6",
              "width": 0.5
             },
             "pattern": {
              "fillmode": "overlay",
              "size": 10,
              "solidity": 0.2
             }
            },
            "type": "barpolar"
           }
          ],
          "carpet": [
           {
            "aaxis": {
             "endlinecolor": "#2a3f5f",
             "gridcolor": "white",
             "linecolor": "white",
             "minorgridcolor": "white",
             "startlinecolor": "#2a3f5f"
            },
            "baxis": {
             "endlinecolor": "#2a3f5f",
             "gridcolor": "white",
             "linecolor": "white",
             "minorgridcolor": "white",
             "startlinecolor": "#2a3f5f"
            },
            "type": "carpet"
           }
          ],
          "choropleth": [
           {
            "colorbar": {
             "outlinewidth": 0,
             "ticks": ""
            },
            "type": "choropleth"
           }
          ],
          "contour": [
           {
            "colorbar": {
             "outlinewidth": 0,
             "ticks": ""
            },
            "colorscale": [
             [
              0,
              "#0d0887"
             ],
             [
              0.1111111111111111,
              "#46039f"
             ],
             [
              0.2222222222222222,
              "#7201a8"
             ],
             [
              0.3333333333333333,
              "#9c179e"
             ],
             [
              0.4444444444444444,
              "#bd3786"
             ],
             [
              0.5555555555555556,
              "#d8576b"
             ],
             [
              0.6666666666666666,
              "#ed7953"
             ],
             [
              0.7777777777777778,
              "#fb9f3a"
             ],
             [
              0.8888888888888888,
              "#fdca26"
             ],
             [
              1,
              "#f0f921"
             ]
            ],
            "type": "contour"
           }
          ],
          "contourcarpet": [
           {
            "colorbar": {
             "outlinewidth": 0,
             "ticks": ""
            },
            "type": "contourcarpet"
           }
          ],
          "heatmap": [
           {
            "colorbar": {
             "outlinewidth": 0,
             "ticks": ""
            },
            "colorscale": [
             [
              0,
              "#0d0887"
             ],
             [
              0.1111111111111111,
              "#46039f"
             ],
             [
              0.2222222222222222,
              "#7201a8"
             ],
             [
              0.3333333333333333,
              "#9c179e"
             ],
             [
              0.4444444444444444,
              "#bd3786"
             ],
             [
              0.5555555555555556,
              "#d8576b"
             ],
             [
              0.6666666666666666,
              "#ed7953"
             ],
             [
              0.7777777777777778,
              "#fb9f3a"
             ],
             [
              0.8888888888888888,
              "#fdca26"
             ],
             [
              1,
              "#f0f921"
             ]
            ],
            "type": "heatmap"
           }
          ],
          "heatmapgl": [
           {
            "colorbar": {
             "outlinewidth": 0,
             "ticks": ""
            },
            "colorscale": [
             [
              0,
              "#0d0887"
             ],
             [
              0.1111111111111111,
              "#46039f"
             ],
             [
              0.2222222222222222,
              "#7201a8"
             ],
             [
              0.3333333333333333,
              "#9c179e"
             ],
             [
              0.4444444444444444,
              "#bd3786"
             ],
             [
              0.5555555555555556,
              "#d8576b"
             ],
             [
              0.6666666666666666,
              "#ed7953"
             ],
             [
              0.7777777777777778,
              "#fb9f3a"
             ],
             [
              0.8888888888888888,
              "#fdca26"
             ],
             [
              1,
              "#f0f921"
             ]
            ],
            "type": "heatmapgl"
           }
          ],
          "histogram": [
           {
            "marker": {
             "pattern": {
              "fillmode": "overlay",
              "size": 10,
              "solidity": 0.2
             }
            },
            "type": "histogram"
           }
          ],
          "histogram2d": [
           {
            "colorbar": {
             "outlinewidth": 0,
             "ticks": ""
            },
            "colorscale": [
             [
              0,
              "#0d0887"
             ],
             [
              0.1111111111111111,
              "#46039f"
             ],
             [
              0.2222222222222222,
              "#7201a8"
             ],
             [
              0.3333333333333333,
              "#9c179e"
             ],
             [
              0.4444444444444444,
              "#bd3786"
             ],
             [
              0.5555555555555556,
              "#d8576b"
             ],
             [
              0.6666666666666666,
              "#ed7953"
             ],
             [
              0.7777777777777778,
              "#fb9f3a"
             ],
             [
              0.8888888888888888,
              "#fdca26"
             ],
             [
              1,
              "#f0f921"
             ]
            ],
            "type": "histogram2d"
           }
          ],
          "histogram2dcontour": [
           {
            "colorbar": {
             "outlinewidth": 0,
             "ticks": ""
            },
            "colorscale": [
             [
              0,
              "#0d0887"
             ],
             [
              0.1111111111111111,
              "#46039f"
             ],
             [
              0.2222222222222222,
              "#7201a8"
             ],
             [
              0.3333333333333333,
              "#9c179e"
             ],
             [
              0.4444444444444444,
              "#bd3786"
             ],
             [
              0.5555555555555556,
              "#d8576b"
             ],
             [
              0.6666666666666666,
              "#ed7953"
             ],
             [
              0.7777777777777778,
              "#fb9f3a"
             ],
             [
              0.8888888888888888,
              "#fdca26"
             ],
             [
              1,
              "#f0f921"
             ]
            ],
            "type": "histogram2dcontour"
           }
          ],
          "mesh3d": [
           {
            "colorbar": {
             "outlinewidth": 0,
             "ticks": ""
            },
            "type": "mesh3d"
           }
          ],
          "parcoords": [
           {
            "line": {
             "colorbar": {
              "outlinewidth": 0,
              "ticks": ""
             }
            },
            "type": "parcoords"
           }
          ],
          "pie": [
           {
            "automargin": true,
            "type": "pie"
           }
          ],
          "scatter": [
           {
            "fillpattern": {
             "fillmode": "overlay",
             "size": 10,
             "solidity": 0.2
            },
            "type": "scatter"
           }
          ],
          "scatter3d": [
           {
            "line": {
             "colorbar": {
              "outlinewidth": 0,
              "ticks": ""
             }
            },
            "marker": {
             "colorbar": {
              "outlinewidth": 0,
              "ticks": ""
             }
            },
            "type": "scatter3d"
           }
          ],
          "scattercarpet": [
           {
            "marker": {
             "colorbar": {
              "outlinewidth": 0,
              "ticks": ""
             }
            },
            "type": "scattercarpet"
           }
          ],
          "scattergeo": [
           {
            "marker": {
             "colorbar": {
              "outlinewidth": 0,
              "ticks": ""
             }
            },
            "type": "scattergeo"
           }
          ],
          "scattergl": [
           {
            "marker": {
             "colorbar": {
              "outlinewidth": 0,
              "ticks": ""
             }
            },
            "type": "scattergl"
           }
          ],
          "scattermapbox": [
           {
            "marker": {
             "colorbar": {
              "outlinewidth": 0,
              "ticks": ""
             }
            },
            "type": "scattermapbox"
           }
          ],
          "scatterpolar": [
           {
            "marker": {
             "colorbar": {
              "outlinewidth": 0,
              "ticks": ""
             }
            },
            "type": "scatterpolar"
           }
          ],
          "scatterpolargl": [
           {
            "marker": {
             "colorbar": {
              "outlinewidth": 0,
              "ticks": ""
             }
            },
            "type": "scatterpolargl"
           }
          ],
          "scatterternary": [
           {
            "marker": {
             "colorbar": {
              "outlinewidth": 0,
              "ticks": ""
             }
            },
            "type": "scatterternary"
           }
          ],
          "surface": [
           {
            "colorbar": {
             "outlinewidth": 0,
             "ticks": ""
            },
            "colorscale": [
             [
              0,
              "#0d0887"
             ],
             [
              0.1111111111111111,
              "#46039f"
             ],
             [
              0.2222222222222222,
              "#7201a8"
             ],
             [
              0.3333333333333333,
              "#9c179e"
             ],
             [
              0.4444444444444444,
              "#bd3786"
             ],
             [
              0.5555555555555556,
              "#d8576b"
             ],
             [
              0.6666666666666666,
              "#ed7953"
             ],
             [
              0.7777777777777778,
              "#fb9f3a"
             ],
             [
              0.8888888888888888,
              "#fdca26"
             ],
             [
              1,
              "#f0f921"
             ]
            ],
            "type": "surface"
           }
          ],
          "table": [
           {
            "cells": {
             "fill": {
              "color": "#EBF0F8"
             },
             "line": {
              "color": "white"
             }
            },
            "header": {
             "fill": {
              "color": "#C8D4E3"
             },
             "line": {
              "color": "white"
             }
            },
            "type": "table"
           }
          ]
         },
         "layout": {
          "annotationdefaults": {
           "arrowcolor": "#2a3f5f",
           "arrowhead": 0,
           "arrowwidth": 1
          },
          "autotypenumbers": "strict",
          "coloraxis": {
           "colorbar": {
            "outlinewidth": 0,
            "ticks": ""
           }
          },
          "colorscale": {
           "diverging": [
            [
             0,
             "#8e0152"
            ],
            [
             0.1,
             "#c51b7d"
            ],
            [
             0.2,
             "#de77ae"
            ],
            [
             0.3,
             "#f1b6da"
            ],
            [
             0.4,
             "#fde0ef"
            ],
            [
             0.5,
             "#f7f7f7"
            ],
            [
             0.6,
             "#e6f5d0"
            ],
            [
             0.7,
             "#b8e186"
            ],
            [
             0.8,
             "#7fbc41"
            ],
            [
             0.9,
             "#4d9221"
            ],
            [
             1,
             "#276419"
            ]
           ],
           "sequential": [
            [
             0,
             "#0d0887"
            ],
            [
             0.1111111111111111,
             "#46039f"
            ],
            [
             0.2222222222222222,
             "#7201a8"
            ],
            [
             0.3333333333333333,
             "#9c179e"
            ],
            [
             0.4444444444444444,
             "#bd3786"
            ],
            [
             0.5555555555555556,
             "#d8576b"
            ],
            [
             0.6666666666666666,
             "#ed7953"
            ],
            [
             0.7777777777777778,
             "#fb9f3a"
            ],
            [
             0.8888888888888888,
             "#fdca26"
            ],
            [
             1,
             "#f0f921"
            ]
           ],
           "sequentialminus": [
            [
             0,
             "#0d0887"
            ],
            [
             0.1111111111111111,
             "#46039f"
            ],
            [
             0.2222222222222222,
             "#7201a8"
            ],
            [
             0.3333333333333333,
             "#9c179e"
            ],
            [
             0.4444444444444444,
             "#bd3786"
            ],
            [
             0.5555555555555556,
             "#d8576b"
            ],
            [
             0.6666666666666666,
             "#ed7953"
            ],
            [
             0.7777777777777778,
             "#fb9f3a"
            ],
            [
             0.8888888888888888,
             "#fdca26"
            ],
            [
             1,
             "#f0f921"
            ]
           ]
          },
          "colorway": [
           "#636efa",
           "#EF553B",
           "#00cc96",
           "#ab63fa",
           "#FFA15A",
           "#19d3f3",
           "#FF6692",
           "#B6E880",
           "#FF97FF",
           "#FECB52"
          ],
          "font": {
           "color": "#2a3f5f"
          },
          "geo": {
           "bgcolor": "white",
           "lakecolor": "white",
           "landcolor": "#E5ECF6",
           "showlakes": true,
           "showland": true,
           "subunitcolor": "white"
          },
          "hoverlabel": {
           "align": "left"
          },
          "hovermode": "closest",
          "mapbox": {
           "style": "light"
          },
          "paper_bgcolor": "white",
          "plot_bgcolor": "#E5ECF6",
          "polar": {
           "angularaxis": {
            "gridcolor": "white",
            "linecolor": "white",
            "ticks": ""
           },
           "bgcolor": "#E5ECF6",
           "radialaxis": {
            "gridcolor": "white",
            "linecolor": "white",
            "ticks": ""
           }
          },
          "scene": {
           "xaxis": {
            "backgroundcolor": "#E5ECF6",
            "gridcolor": "white",
            "gridwidth": 2,
            "linecolor": "white",
            "showbackground": true,
            "ticks": "",
            "zerolinecolor": "white"
           },
           "yaxis": {
            "backgroundcolor": "#E5ECF6",
            "gridcolor": "white",
            "gridwidth": 2,
            "linecolor": "white",
            "showbackground": true,
            "ticks": "",
            "zerolinecolor": "white"
           },
           "zaxis": {
            "backgroundcolor": "#E5ECF6",
            "gridcolor": "white",
            "gridwidth": 2,
            "linecolor": "white",
            "showbackground": true,
            "ticks": "",
            "zerolinecolor": "white"
           }
          },
          "shapedefaults": {
           "line": {
            "color": "#2a3f5f"
           }
          },
          "ternary": {
           "aaxis": {
            "gridcolor": "white",
            "linecolor": "white",
            "ticks": ""
           },
           "baxis": {
            "gridcolor": "white",
            "linecolor": "white",
            "ticks": ""
           },
           "bgcolor": "#E5ECF6",
           "caxis": {
            "gridcolor": "white",
            "linecolor": "white",
            "ticks": ""
           }
          },
          "title": {
           "x": 0.05
          },
          "xaxis": {
           "automargin": true,
           "gridcolor": "white",
           "linecolor": "white",
           "ticks": "",
           "title": {
            "standoff": 15
           },
           "zerolinecolor": "white",
           "zerolinewidth": 2
          },
          "yaxis": {
           "automargin": true,
           "gridcolor": "white",
           "linecolor": "white",
           "ticks": "",
           "title": {
            "standoff": 15
           },
           "zerolinecolor": "white",
           "zerolinewidth": 2
          }
         }
        },
        "width": 1500,
        "xaxis": {
         "showgrid": false,
         "zeroline": false
        },
        "yaxis": {
         "showgrid": false,
         "zeroline": false
        }
       }
      },
      "text/html": [
       "<div>                            <div id=\"a5b57707-8f01-440a-9fd6-87cdbe9c032a\" class=\"plotly-graph-div\" style=\"height:1000px; width:1500px;\"></div>            <script type=\"text/javascript\">                require([\"plotly\"], function(Plotly) {                    window.PLOTLYENV=window.PLOTLYENV || {};                                    if (document.getElementById(\"a5b57707-8f01-440a-9fd6-87cdbe9c032a\")) {                    Plotly.newPlot(                        \"a5b57707-8f01-440a-9fd6-87cdbe9c032a\",                        [{\"hoverinfo\":\"none\",\"line\":{\"color\":\"#888\",\"width\":0.635},\"mode\":\"lines\",\"x\":[0.01575450963708826,-0.01888489885170455,null,-0.01888489885170455,-0.044997734838869215,null,-0.44046799313097446,-0.6355512873602909,null,0.4266108800987616,0.01575450963708826,null,0.4266108800987616,0.838695346489573,null,-0.6860700081627777,-0.7989631334985933,null,-0.41934312477882923,-0.561981920407897,null,0.4688372456501246,0.5383079481170888,null,0.6130053100107813,0.838695346489573,null,0.7050488610265185,0.838695346489573,null],\"y\":[0.22538255705057444,0.40971941564299996,null,0.40971941564299996,0.6122768462578728,null,-0.24148956905810692,-0.12671284633172397,null,0.2665059645651827,0.22538255705057444,null,0.2665059645651827,0.31224143829749834,null,-0.31725314774022595,-0.2575594635434337,null,0.23185118720650985,0.376843607673456,null,-0.8705646345848552,-1.0,null,0.13515584854636375,0.31224143829749834,null,0.24360279601788842,0.31224143829749834,null],\"type\":\"scatter\"},{\"hoverinfo\":\"text\",\"marker\":{\"colorbar\":{\"thickness\":17,\"title\":{\"side\":\"right\",\"text\":\"Node Connections\"},\"xanchor\":\"left\"},\"colorscale\":[[0.0,\"rgb(247,251,255)\"],[0.125,\"rgb(222,235,247)\"],[0.25,\"rgb(198,219,239)\"],[0.375,\"rgb(158,202,225)\"],[0.5,\"rgb(107,174,214)\"],[0.625,\"rgb(66,146,198)\"],[0.75,\"rgb(33,113,181)\"],[0.875,\"rgb(8,81,156)\"],[1.0,\"rgb(8,48,107)\"]],\"line\":{\"width\":2},\"showscale\":true,\"size\":15},\"mode\":\"markers+text\",\"text\":[\"Mirtazapine\",\"Fluoxetine\",\"Sertraline\",\"Depressive Disorders\",\"Venlafaxine\",\"Reboxetine\",\"Major Depression\",\"Escitalopram\",\"Major Depressive Disorder\",\"Depression\",\"Nausea\",\"Duloxetine\",\"Anxiety\",\"Fluvoxamine\",\"Milnacipran\"],\"textposition\":\"top center\",\"x\":[0.01575450963708826,-0.01888489885170455,-0.44046799313097446,-0.6355512873602909,0.4266108800987616,-0.6860700081627777,-0.7989631334985933,-0.41934312477882923,-0.561981920407897,0.838695346489573,-0.044997734838869215,0.4688372456501246,0.5383079481170888,0.6130053100107813,0.7050488610265185],\"y\":[0.22538255705057444,0.40971941564299996,-0.24148956905810692,-0.12671284633172397,0.2665059645651827,-0.31725314774022595,-0.2575594635434337,0.23185118720650985,0.376843607673456,0.31224143829749834,0.6122768462578728,-0.8705646345848552,-1.0,0.13515584854636375,0.24360279601788842],\"type\":\"scatter\"},{\"hoverinfo\":\"none\",\"mode\":\"text\",\"text\":[\"is more effective than\",\"has side effect of\",\"has lower remission with\",\"is used in combination with\",\"is used to treat\",\"is augmented by\",\"improves\",\"experiences more\",\"is augmented by\",\"improves\"],\"textposition\":\"top right\",\"x\":[-0.0015651946073081454,-0.03194131684528688,-0.5380096402456327,0.2211826948679249,0.6326531132941673,-0.7425165708306856,-0.49066252259336307,0.5035725968836067,0.7258503282501771,0.7718721037580458],\"y\":[0.3175509863467872,0.5109981309504363,-0.18410120769491545,0.24594426080787857,0.28937370143134056,-0.2874063056418298,0.3043473974399829,-0.9352823172924276,0.22369864342193105,0.2779221171576934],\"type\":\"scatter\"}],                        {\"height\":1000,\"hovermode\":\"closest\",\"margin\":{\"b\":0,\"l\":0,\"r\":0,\"t\":0},\"showlegend\":false,\"width\":1500,\"xaxis\":{\"showgrid\":false,\"zeroline\":false},\"yaxis\":{\"showgrid\":false,\"zeroline\":false},\"template\":{\"data\":{\"histogram2dcontour\":[{\"type\":\"histogram2dcontour\",\"colorbar\":{\"outlinewidth\":0,\"ticks\":\"\"},\"colorscale\":[[0.0,\"#0d0887\"],[0.1111111111111111,\"#46039f\"],[0.2222222222222222,\"#7201a8\"],[0.3333333333333333,\"#9c179e\"],[0.4444444444444444,\"#bd3786\"],[0.5555555555555556,\"#d8576b\"],[0.6666666666666666,\"#ed7953\"],[0.7777777777777778,\"#fb9f3a\"],[0.8888888888888888,\"#fdca26\"],[1.0,\"#f0f921\"]]}],\"choropleth\":[{\"type\":\"choropleth\",\"colorbar\":{\"outlinewidth\":0,\"ticks\":\"\"}}],\"histogram2d\":[{\"type\":\"histogram2d\",\"colorbar\":{\"outlinewidth\":0,\"ticks\":\"\"},\"colorscale\":[[0.0,\"#0d0887\"],[0.1111111111111111,\"#46039f\"],[0.2222222222222222,\"#7201a8\"],[0.3333333333333333,\"#9c179e\"],[0.4444444444444444,\"#bd3786\"],[0.5555555555555556,\"#d8576b\"],[0.6666666666666666,\"#ed7953\"],[0.7777777777777778,\"#fb9f3a\"],[0.8888888888888888,\"#fdca26\"],[1.0,\"#f0f921\"]]}],\"heatmap\":[{\"type\":\"heatmap\",\"colorbar\":{\"outlinewidth\":0,\"ticks\":\"\"},\"colorscale\":[[0.0,\"#0d0887\"],[0.1111111111111111,\"#46039f\"],[0.2222222222222222,\"#7201a8\"],[0.3333333333333333,\"#9c179e\"],[0.4444444444444444,\"#bd3786\"],[0.5555555555555556,\"#d8576b\"],[0.6666666666666666,\"#ed7953\"],[0.7777777777777778,\"#fb9f3a\"],[0.8888888888888888,\"#fdca26\"],[1.0,\"#f0f921\"]]}],\"heatmapgl\":[{\"type\":\"heatmapgl\",\"colorbar\":{\"outlinewidth\":0,\"ticks\":\"\"},\"colorscale\":[[0.0,\"#0d0887\"],[0.1111111111111111,\"#46039f\"],[0.2222222222222222,\"#7201a8\"],[0.3333333333333333,\"#9c179e\"],[0.4444444444444444,\"#bd3786\"],[0.5555555555555556,\"#d8576b\"],[0.6666666666666666,\"#ed7953\"],[0.7777777777777778,\"#fb9f3a\"],[0.8888888888888888,\"#fdca26\"],[1.0,\"#f0f921\"]]}],\"contourcarpet\":[{\"type\":\"contourcarpet\",\"colorbar\":{\"outlinewidth\":0,\"ticks\":\"\"}}],\"contour\":[{\"type\":\"contour\",\"colorbar\":{\"outlinewidth\":0,\"ticks\":\"\"},\"colorscale\":[[0.0,\"#0d0887\"],[0.1111111111111111,\"#46039f\"],[0.2222222222222222,\"#7201a8\"],[0.3333333333333333,\"#9c179e\"],[0.4444444444444444,\"#bd3786\"],[0.5555555555555556,\"#d8576b\"],[0.6666666666666666,\"#ed7953\"],[0.7777777777777778,\"#fb9f3a\"],[0.8888888888888888,\"#fdca26\"],[1.0,\"#f0f921\"]]}],\"surface\":[{\"type\":\"surface\",\"colorbar\":{\"outlinewidth\":0,\"ticks\":\"\"},\"colorscale\":[[0.0,\"#0d0887\"],[0.1111111111111111,\"#46039f\"],[0.2222222222222222,\"#7201a8\"],[0.3333333333333333,\"#9c179e\"],[0.4444444444444444,\"#bd3786\"],[0.5555555555555556,\"#d8576b\"],[0.6666666666666666,\"#ed7953\"],[0.7777777777777778,\"#fb9f3a\"],[0.8888888888888888,\"#fdca26\"],[1.0,\"#f0f921\"]]}],\"mesh3d\":[{\"type\":\"mesh3d\",\"colorbar\":{\"outlinewidth\":0,\"ticks\":\"\"}}],\"scatter\":[{\"fillpattern\":{\"fillmode\":\"overlay\",\"size\":10,\"solidity\":0.2},\"type\":\"scatter\"}],\"parcoords\":[{\"type\":\"parcoords\",\"line\":{\"colorbar\":{\"outlinewidth\":0,\"ticks\":\"\"}}}],\"scatterpolargl\":[{\"type\":\"scatterpolargl\",\"marker\":{\"colorbar\":{\"outlinewidth\":0,\"ticks\":\"\"}}}],\"bar\":[{\"error_x\":{\"color\":\"#2a3f5f\"},\"error_y\":{\"color\":\"#2a3f5f\"},\"marker\":{\"line\":{\"color\":\"#E5ECF6\",\"width\":0.5},\"pattern\":{\"fillmode\":\"overlay\",\"size\":10,\"solidity\":0.2}},\"type\":\"bar\"}],\"scattergeo\":[{\"type\":\"scattergeo\",\"marker\":{\"colorbar\":{\"outlinewidth\":0,\"ticks\":\"\"}}}],\"scatterpolar\":[{\"type\":\"scatterpolar\",\"marker\":{\"colorbar\":{\"outlinewidth\":0,\"ticks\":\"\"}}}],\"histogram\":[{\"marker\":{\"pattern\":{\"fillmode\":\"overlay\",\"size\":10,\"solidity\":0.2}},\"type\":\"histogram\"}],\"scattergl\":[{\"type\":\"scattergl\",\"marker\":{\"colorbar\":{\"outlinewidth\":0,\"ticks\":\"\"}}}],\"scatter3d\":[{\"type\":\"scatter3d\",\"line\":{\"colorbar\":{\"outlinewidth\":0,\"ticks\":\"\"}},\"marker\":{\"colorbar\":{\"outlinewidth\":0,\"ticks\":\"\"}}}],\"scattermapbox\":[{\"type\":\"scattermapbox\",\"marker\":{\"colorbar\":{\"outlinewidth\":0,\"ticks\":\"\"}}}],\"scatterternary\":[{\"type\":\"scatterternary\",\"marker\":{\"colorbar\":{\"outlinewidth\":0,\"ticks\":\"\"}}}],\"scattercarpet\":[{\"type\":\"scattercarpet\",\"marker\":{\"colorbar\":{\"outlinewidth\":0,\"ticks\":\"\"}}}],\"carpet\":[{\"aaxis\":{\"endlinecolor\":\"#2a3f5f\",\"gridcolor\":\"white\",\"linecolor\":\"white\",\"minorgridcolor\":\"white\",\"startlinecolor\":\"#2a3f5f\"},\"baxis\":{\"endlinecolor\":\"#2a3f5f\",\"gridcolor\":\"white\",\"linecolor\":\"white\",\"minorgridcolor\":\"white\",\"startlinecolor\":\"#2a3f5f\"},\"type\":\"carpet\"}],\"table\":[{\"cells\":{\"fill\":{\"color\":\"#EBF0F8\"},\"line\":{\"color\":\"white\"}},\"header\":{\"fill\":{\"color\":\"#C8D4E3\"},\"line\":{\"color\":\"white\"}},\"type\":\"table\"}],\"barpolar\":[{\"marker\":{\"line\":{\"color\":\"#E5ECF6\",\"width\":0.5},\"pattern\":{\"fillmode\":\"overlay\",\"size\":10,\"solidity\":0.2}},\"type\":\"barpolar\"}],\"pie\":[{\"automargin\":true,\"type\":\"pie\"}]},\"layout\":{\"autotypenumbers\":\"strict\",\"colorway\":[\"#636efa\",\"#EF553B\",\"#00cc96\",\"#ab63fa\",\"#FFA15A\",\"#19d3f3\",\"#FF6692\",\"#B6E880\",\"#FF97FF\",\"#FECB52\"],\"font\":{\"color\":\"#2a3f5f\"},\"hovermode\":\"closest\",\"hoverlabel\":{\"align\":\"left\"},\"paper_bgcolor\":\"white\",\"plot_bgcolor\":\"#E5ECF6\",\"polar\":{\"bgcolor\":\"#E5ECF6\",\"angularaxis\":{\"gridcolor\":\"white\",\"linecolor\":\"white\",\"ticks\":\"\"},\"radialaxis\":{\"gridcolor\":\"white\",\"linecolor\":\"white\",\"ticks\":\"\"}},\"ternary\":{\"bgcolor\":\"#E5ECF6\",\"aaxis\":{\"gridcolor\":\"white\",\"linecolor\":\"white\",\"ticks\":\"\"},\"baxis\":{\"gridcolor\":\"white\",\"linecolor\":\"white\",\"ticks\":\"\"},\"caxis\":{\"gridcolor\":\"white\",\"linecolor\":\"white\",\"ticks\":\"\"}},\"coloraxis\":{\"colorbar\":{\"outlinewidth\":0,\"ticks\":\"\"}},\"colorscale\":{\"sequential\":[[0.0,\"#0d0887\"],[0.1111111111111111,\"#46039f\"],[0.2222222222222222,\"#7201a8\"],[0.3333333333333333,\"#9c179e\"],[0.4444444444444444,\"#bd3786\"],[0.5555555555555556,\"#d8576b\"],[0.6666666666666666,\"#ed7953\"],[0.7777777777777778,\"#fb9f3a\"],[0.8888888888888888,\"#fdca26\"],[1.0,\"#f0f921\"]],\"sequentialminus\":[[0.0,\"#0d0887\"],[0.1111111111111111,\"#46039f\"],[0.2222222222222222,\"#7201a8\"],[0.3333333333333333,\"#9c179e\"],[0.4444444444444444,\"#bd3786\"],[0.5555555555555556,\"#d8576b\"],[0.6666666666666666,\"#ed7953\"],[0.7777777777777778,\"#fb9f3a\"],[0.8888888888888888,\"#fdca26\"],[1.0,\"#f0f921\"]],\"diverging\":[[0,\"#8e0152\"],[0.1,\"#c51b7d\"],[0.2,\"#de77ae\"],[0.3,\"#f1b6da\"],[0.4,\"#fde0ef\"],[0.5,\"#f7f7f7\"],[0.6,\"#e6f5d0\"],[0.7,\"#b8e186\"],[0.8,\"#7fbc41\"],[0.9,\"#4d9221\"],[1,\"#276419\"]]},\"xaxis\":{\"gridcolor\":\"white\",\"linecolor\":\"white\",\"ticks\":\"\",\"title\":{\"standoff\":15},\"zerolinecolor\":\"white\",\"automargin\":true,\"zerolinewidth\":2},\"yaxis\":{\"gridcolor\":\"white\",\"linecolor\":\"white\",\"ticks\":\"\",\"title\":{\"standoff\":15},\"zerolinecolor\":\"white\",\"automargin\":true,\"zerolinewidth\":2},\"scene\":{\"xaxis\":{\"backgroundcolor\":\"#E5ECF6\",\"gridcolor\":\"white\",\"linecolor\":\"white\",\"showbackground\":true,\"ticks\":\"\",\"zerolinecolor\":\"white\",\"gridwidth\":2},\"yaxis\":{\"backgroundcolor\":\"#E5ECF6\",\"gridcolor\":\"white\",\"linecolor\":\"white\",\"showbackground\":true,\"ticks\":\"\",\"zerolinecolor\":\"white\",\"gridwidth\":2},\"zaxis\":{\"backgroundcolor\":\"#E5ECF6\",\"gridcolor\":\"white\",\"linecolor\":\"white\",\"showbackground\":true,\"ticks\":\"\",\"zerolinecolor\":\"white\",\"gridwidth\":2}},\"shapedefaults\":{\"line\":{\"color\":\"#2a3f5f\"}},\"annotationdefaults\":{\"arrowcolor\":\"#2a3f5f\",\"arrowhead\":0,\"arrowwidth\":1},\"geo\":{\"bgcolor\":\"white\",\"landcolor\":\"#E5ECF6\",\"subunitcolor\":\"white\",\"showland\":true,\"showlakes\":true,\"lakecolor\":\"white\"},\"title\":{\"x\":0.05},\"mapbox\":{\"style\":\"light\"}}}},                        {\"responsive\": true}                    ).then(function(){\n",
       "                            \n",
       "var gd = document.getElementById('a5b57707-8f01-440a-9fd6-87cdbe9c032a');\n",
       "var x = new MutationObserver(function (mutations, observer) {{\n",
       "        var display = window.getComputedStyle(gd).display;\n",
       "        if (!display || display === 'none') {{\n",
       "            console.log([gd, 'removed!']);\n",
       "            Plotly.purge(gd);\n",
       "            observer.disconnect();\n",
       "        }}\n",
       "}});\n",
       "\n",
       "// Listen for the removal of the full notebook cells\n",
       "var notebookContainer = gd.closest('#notebook-container');\n",
       "if (notebookContainer) {{\n",
       "    x.observe(notebookContainer, {childList: true});\n",
       "}}\n",
       "\n",
       "// Listen for the clearing of the current output cell\n",
       "var outputEl = gd.closest('.output');\n",
       "if (outputEl) {{\n",
       "    x.observe(outputEl, {childList: true});\n",
       "}}\n",
       "\n",
       "                        })                };                });            </script>        </div>"
      ]
     },
     "metadata": {},
     "output_type": "display_data"
    }
   ],
   "source": [
    "import pandas as pd\n",
    "import networkx as nx\n",
    "import plotly.graph_objects as go\n",
    "\n",
    "data = {\n",
    "    'entity 1': ['Mirtazapine', 'Sertraline', 'Venlafaxine', 'Reboxetine', 'Escitalopram', 'Venlafaxine', 'Fluoxetine', 'Duloxetine', 'Fluvoxamine', 'Milnacipran'],\n",
    "    'relationship': ['is more effective than', 'has lower remission with', 'is used in combination with', 'is augmented by', 'improves', 'is used to treat', 'has side effect of', 'experiences more', 'is augmented by', 'improves'],\n",
    "    'entity 2': ['Fluoxetine', 'Depressive Disorders', 'Mirtazapine', 'Major Depression', 'Major Depressive Disorder', 'Depression', 'Nausea', 'Anxiety', 'Depression', 'Depression']\n",
    "}\n",
    "\n",
    "df = pd.DataFrame(data)\n",
    "\n",
    "G = nx.from_pandas_edgelist(df, source='entity 1', target='entity 2', edge_attr='relationship', create_using=nx.DiGraph())\n",
    "\n",
    "\n",
    "pos = nx.spring_layout(G)\n",
    "\n",
    "x_nodes = [pos[node][0] for node in G.nodes()] \n",
    "y_nodes = [pos[node][1] for node in G.nodes()] \n",
    "\n",
    "edge_x = []\n",
    "edge_y = []\n",
    "for edge in G.edges():\n",
    "    x0, y0 = pos[edge[0]]\n",
    "    x1, y1 = pos[edge[1]]\n",
    "    edge_x.extend([x0, x1, None])\n",
    "    edge_y.extend([y0, y1, None])\n",
    "\n",
    "edge_trace = go.Scatter(\n",
    "    x=edge_x, y=edge_y,\n",
    "    line=dict(width=0.635, color='#888'),\n",
    "    hoverinfo='none',\n",
    "    mode='lines')\n",
    "\n",
    "\n",
    "node_trace = go.Scatter(\n",
    "    x=x_nodes, y=y_nodes,\n",
    "    mode='markers+text',\n",
    "    text=[f\"{node}\" for node in G.nodes()],\n",
    "    textposition=\"top center\",\n",
    "    hoverinfo='text',\n",
    "    marker=dict(\n",
    "        showscale=True,\n",
    "        colorscale='Blues',\n",
    "        colorbar=dict(\n",
    "            thickness=17,\n",
    "            title='Node Connections',\n",
    "            xanchor='left',\n",
    "            titleside='right'\n",
    "        ),\n",
    "        size=15,\n",
    "        line_width=2))\n",
    "\n",
    "\n",
    "edge_labels = [G.edges[edge]['relationship'] for edge in G.edges()]\n",
    "edge_text = go.Scatter(\n",
    "    x=[(pos[edge[0]][0] + pos[edge[1]][0]) / 2 for edge in G.edges()],\n",
    "    y=[(pos[edge[0]][1] + pos[edge[1]][1]) / 2 for edge in G.edges()],\n",
    "    text=edge_labels,\n",
    "    mode='text',\n",
    "    textposition=\"top right\",\n",
    "    hoverinfo='none'\n",
    ")\n",
    "\n",
    "fig = go.Figure(data=[edge_trace, node_trace, edge_text],\n",
    "                layout=go.Layout(\n",
    "                    showlegend=False,\n",
    "                    hovermode='closest',\n",
    "                    margin=dict(b=0, l=0, r=0, t=0),\n",
    "                    width=1500,\n",
    "                    height=1000,\n",
    "                    xaxis=dict(showgrid=False, zeroline=False),\n",
    "                    yaxis=dict(showgrid=False, zeroline=False)))\n",
    "\n",
    "fig.show()"
   ]
  },
  {
   "cell_type": "code",
   "execution_count": 99,
   "id": "79563bde",
   "metadata": {},
   "outputs": [
    {
     "name": "stdout",
     "output_type": "stream",
     "text": [
      "Requirement already satisfied: igraph in c:\\users\\anush\\appdata\\local\\anaconda3\\lib\\site-packages (0.11.6)\n",
      "Requirement already satisfied: texttable>=1.6.2 in c:\\users\\anush\\appdata\\local\\anaconda3\\lib\\site-packages (from igraph) (1.7.0)\n"
     ]
    }
   ],
   "source": [
    "!pip install igraph\n",
    "import pandas as pd\n",
    "import igraph as ig\n",
    "import matplotlib.pyplot as plt\n",
    "\n",
    "\n"
   ]
  },
  {
   "cell_type": "code",
   "execution_count": 98,
   "id": "c25b6f3b",
   "metadata": {},
   "outputs": [
    {
     "data": {
      "image/png": "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",
      "text/plain": [
       "<Figure size 1500x1500 with 1 Axes>"
      ]
     },
     "metadata": {},
     "output_type": "display_data"
    }
   ],
   "source": [
    "data = {\n",
    "    'entity 1': ['Mirtazapine', 'Sertraline', 'Venlafaxine', 'Reboxetine', 'Escitalopram', 'Venlafaxine', 'Fluoxetine', 'Duloxetine', 'Fluvoxamine', 'Milnacipran'],\n",
    "    'relationship': ['is more effective than', 'has lower remission with', 'is used in combination with', 'is augmented by', 'improves', 'is used to treat', 'has side effect of', 'experiences more', 'is augmented by', 'improves'],\n",
    "    'entity 2': ['Fluoxetine', 'Depressive Disorders', 'Mirtazapine', 'Major Depression', 'Major Depressive Disorder', 'Depression', 'Nausea', 'Anxiety', 'Depression', 'Depression']\n",
    "}\n",
    "df = pd.DataFrame(data)\n",
    "\n",
    "g = ig.Graph(directed=True)\n",
    "g.add_vertices(df['entity 1'].tolist() + df['entity 2'].tolist())\n",
    "g.add_edges(zip(df['entity 1'], df['entity 2']))\n",
    "\n",
    "g.es['label'] = df['relationship'].tolist()\n",
    "fig, ax = plt.subplots(figsize=(15, 15))\n",
    "layout = g.layout('fr')  \n",
    "ig.plot(\n",
    "    g,\n",
    "    target=ax,\n",
    "    layout=layout,\n",
    "    vertex_label=g.vs['name'],\n",
    "    vertex_size=90,\n",
    "    vertex_color='lightblue',\n",
    "    edge_label=g.es['label'], \n",
    "    edge_color='gray',\n",
    "    edge_arrow_size=1,  \n",
    "    edge_label_dist=10,  \n",
    "    margin=10,  \n",
    ")\n",
    "\n",
    "plt.show()"
   ]
>>>>>>> 7b612116e4c19dc897b64e541763862cf5c25cad
  }
 ],
 "metadata": {
  "colab": {
   "provenance": []
  },
  "kernelspec": {
   "display_name": "Python 3 (ipykernel)",
   "language": "python",
   "name": "python3"
  },
  "language_info": {
   "codemirror_mode": {
    "name": "ipython",
    "version": 3
   },
   "file_extension": ".py",
   "mimetype": "text/x-python",
   "name": "python",
   "nbconvert_exporter": "python",
   "pygments_lexer": "ipython3",
   "version": "3.11.5"
  }
 },
 "nbformat": 4,
 "nbformat_minor": 5
}
